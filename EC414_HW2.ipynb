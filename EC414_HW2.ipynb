{
  "nbformat": 4,
  "nbformat_minor": 0,
  "metadata": {
    "colab": {
      "name": "EC414_HW2.ipynb",
      "provenance": [],
      "collapsed_sections": [],
      "toc_visible": true,
      "include_colab_link": true
    },
    "kernelspec": {
      "name": "python3",
      "display_name": "Python 3"
    }
  },
  "cells": [
    {
      "cell_type": "markdown",
      "metadata": {
        "id": "view-in-github",
        "colab_type": "text"
      },
      "source": [
        "<a href=\"https://colab.research.google.com/github/jr735/EC414HWFolder/blob/master/EC414_HW2.ipynb\" target=\"_parent\"><img src=\"https://colab.research.google.com/assets/colab-badge.svg\" alt=\"Open In Colab\"/></a>"
      ]
    },
    {
      "cell_type": "markdown",
      "metadata": {
        "id": "CDnayQkt-Vw5"
      },
      "source": [
        "# Homework 2: Linear Regression\r\n",
        "by Yousif Khaireddin and Sadie Allen\r\n",
        "\r\n",
        "**Due date**: February 17, Wednesday by 11:59pm\r\n"
      ]
    },
    {
      "cell_type": "markdown",
      "metadata": {
        "id": "DbDOBnxLIf4N"
      },
      "source": [
        "## **Question 1:** Ridge regression derivation"
      ]
    },
    {
      "cell_type": "markdown",
      "metadata": {
        "id": "74JIPHp5JiGb"
      },
      "source": [
        "**Throughout the following, please adhere to the following definitions**\r\n",
        "\r\n",
        "$\r\n",
        "n = number\\ of\\ samples \\\\\r\n",
        "d = number\\ of\\ features \\\\\r\n",
        "$\r\n",
        "\r\n",
        "$\r\n",
        "X = samples \\in \\mathcal{R}^{n x d}\\\\\r\n",
        "y = labels \\in \\mathcal{R}^n \\\\\r\n",
        "w = weight\\ matrix \\in \\mathcal{R}^d\r\n",
        "$"
      ]
    },
    {
      "cell_type": "markdown",
      "metadata": {
        "id": "-IzsMMniH2z4"
      },
      "source": [
        "In class, we have derived the closed form solution for OLS Regression. \r\n",
        "\r\n",
        "$\r\n",
        "loss = \\sum_{i=0}^{n}||y_i - \\sum_{j=0}^{d}x_{ij}w_j||^2 = (\\textbf{y} - \\textbf{Xw})^T (\\textbf{y} - \\textbf{Xw})\r\n",
        "$\r\n",
        "<br>\r\n",
        "\r\n",
        "\r\n",
        "The optimal value for the parameter $\\textbf{w}$ is given by\r\n",
        "\r\n",
        "$\r\n",
        "\\textbf{w*} = (\\textbf{X}^T \\textbf{X})^{-1}\\ \\textbf{X}^T \\textbf{y} \\\\\r\n",
        "$\r\n",
        "\r\n",
        "To control the variance of the parameters and avoid them growing to infinity and help with overfitting, ridge regression tries to regularize the loss function using w, shown below:\r\n",
        "<br><br>\r\n",
        "\r\n",
        "\r\n",
        "$\r\n",
        "loss = (\\textbf{y} - \\textbf{Xw})^T (\\textbf{y} - \\textbf{Xw} ) + \\lambda ||\\textbf{w}||^2_2\r\n",
        "$\r\n",
        "<br><br>\r\n",
        "\r\n",
        "\r\n",
        "The degree to which this regularization impacts the loss function is controlled by the $\\lambda$ parameter. This is a hyper-parameter which must be tuned using a validation set.\r\n",
        "\r\n",
        "<br>\r\n",
        "\r\n",
        "\r\n",
        "Derive the closed form solution of ridge regression using the same workflow used in class to derive OLS.\r\n",
        "\r\n",
        "**Hint:** You are trying to minimize the loss w.r.t. to $w$   \r\n"
      ]
    },
    {
      "cell_type": "markdown",
      "metadata": {
        "id": "20PBq4H_Anp9"
      },
      "source": [
        "**Answer:**\r\n",
        "Goal is to minimize $$\\sum_{i=1}^{n} (y_{i}-w^{T}x_{i})^2 +\\lambda w^{T}w$$\r\n",
        "Easy way to do this is to vectorize y and make the $$x_{i}$$s in the sum a matrix X so that we can drop the summation notation:\r\n",
        "Ridge sol'n: $$(y-Xw)^2 +\\lambda w^{T}w$$\r\n",
        "Take the derivative with respect to w and set equal to zero:\r\n",
        "$$\\frac{d}{dw} [(y-Xw)^2 +\\lambda w^{T}w]= 2(X^{T}X)w-2X^{T}y+2\\lambda w=0$$\r\n",
        "$$2(X^{T}X)w+2\\lambda w=2X^{T}y$$\r\n",
        "$$(X^{T}X+\\lambda I)w=X^{T}y$$\r\n",
        "And finally, this minimizes the soln: $$w=(X^{T}X+\\lambda I)^{-1}X^{T}y$$\r\n"
      ]
    },
    {
      "cell_type": "markdown",
      "metadata": {
        "id": "wv8p6dTD1Xtr"
      },
      "source": [
        "## **Question 2:**  Relationship between Lasso Regression and Maximum a posteriori estimation"
      ]
    },
    {
      "cell_type": "markdown",
      "metadata": {
        "id": "GpDPgHMK1e3c"
      },
      "source": [
        "As we have previously discussed in class, in linear regression, we can consider $y$ to be the product of the weight vector with the sample with some added noise factor. \r\n",
        "\r\n",
        "$ y = w^Tx + \\mathcal{N} (0, \\sigma^2) $\r\n",
        "\r\n",
        "So, each $y_i$ is distributed according to a gaussian distribution governed by the noise, and mean-shifted by $w^Tx$\r\n",
        "\r\n",
        "$y \\sim \\mathcal{N} (w^Tx, \\sigma^2)$\r\n",
        "\r\n",
        "$p(y|x, w) = \\frac{1}{\\sigma \\sqrt{2 \\pi}} e^{\\sum_{i=1}^{n} \\frac{-(y_i - x_i^Tw)^2}{2\\sigma^2}} $\r\n",
        "<br><br>\r\n",
        "\r\n",
        "\r\n",
        "Additionally, assume the prior of the model is Laplacian whose coefficients are iid with zero mean and scale parameter $b$.\r\n",
        "\r\n",
        "$p(w|\\mu, b) = \\frac{1}{2b}e^{\\frac{-||w-\\mu||_1}{b}}$\r\n",
        "<br>\r\n",
        "\r\n",
        "\r\n",
        "Show that the formula for LASSO linear regression can be derived via MAP estimation with a Laplace prior.\r\n"
      ]
    },
    {
      "cell_type": "markdown",
      "metadata": {
        "id": "kDqtxuABUwXn"
      },
      "source": [
        "**Answer** \r\n",
        "MAP estimator for a gaussian is $$w_{MAP}= argmax_{w} P(y|w,x,\\sigma^2)P(w)$$\r\n",
        "Plugging in the above Gaussian distribution and Laplacian prior gives:\r\n",
        "$$w_{MAP}= argmax_{w}  \\frac{1}{\\sigma\\sqrt{2\\pi}} e^{\\sum_{i=1}^{n} (-\\frac{(y_{i}-x_{i}^{T}w)^2} {2\\sigma^2})}*\\frac{1}{2b} e^{-\\frac{||w-\\mu||_{1}}{b}}$$\r\n",
        "$$w_{MAP}= argmax_{w}  \\frac{1}{\\sigma\\sqrt{2\\pi}} e^{\\sum_{i=1}^{n} (-\\frac{(y_{i}-x_{i}^{T}w)^2} {2\\sigma^2})}*\\prod_{j=1}^p \\frac{1}{2b} e^{-\\frac{||w-\\mu||_{1}}{b}}$$\r\n",
        "Take the natural log and ignore some constants: $$ argmax_{w} \\sum_{i=1}^{n} (-\\frac{(y_{i}-x_{i}^{T}w)^2} {2\\sigma^2})-\\sum_{j=1}^p \\lambda ||w-\\mu||$$ where $\\lambda$ is just $\\frac{1}{b}$ and is the scale parameter usually seen in the lasso formula.\r\n",
        "Take argmin of the negative expression and ignore some more constants: $$ argmin_{w} \\sum_{i=1}^{n} (\\frac{(y_{i}-x_{i}^{T}w)^2} {2\\sigma^2})+\\sum_{j=1}^p \\lambda ||w-\\mu||$$\r\n",
        "And then if you make $\\lambda$ to be $\\frac{2\\sigma^2}{b}$ this basically becomes: $$ argmin_{w} \\sum_{i=1}^{n} (y_{i}-x_{i}^{T}w^2)+ \\lambda||w||_1$$ which is the formula for LASSO.\r\n",
        "\r\n"
      ]
    },
    {
      "cell_type": "markdown",
      "metadata": {
        "id": "TG5yndLcyOTN"
      },
      "source": [
        "## **Question 3:** Linear Regression Implementation (OLS, Ridge)"
      ]
    },
    {
      "cell_type": "markdown",
      "metadata": {
        "id": "iZz-JWJlyY3d"
      },
      "source": [
        "Throughout this question we will be concerned with implementing Linear regression and Ridge regression and verifying our results against sklearn's inbuilt functions. \r\n",
        "\r\n",
        "To do this, we will be using a very simple and small dataset containing 50 samples and only 1 feature.  \r\n",
        "\r\n",
        "This will enable us to plot and visualize everything along the way. \r\n"
      ]
    },
    {
      "cell_type": "markdown",
      "metadata": {
        "id": "zWXoz_MJi6X5"
      },
      "source": [
        "### Data processing and Visualization"
      ]
    },
    {
      "cell_type": "code",
      "metadata": {
        "colab": {
          "base_uri": "https://localhost:8080/",
          "height": 0
        },
        "id": "ms6c0qWHWal5",
        "outputId": "6722b9cd-1933-41e7-8b01-548c12e35a3a"
      },
      "source": [
        "import numpy as np\r\n",
        "from sklearn.datasets import make_regression\r\n",
        "\r\n",
        "X, y, coefficients = make_regression(\r\n",
        "    n_samples=50,\r\n",
        "    n_features=1,\r\n",
        "    n_informative=1,\r\n",
        "    n_targets=1,\r\n",
        "    noise=5,\r\n",
        "    coef=True,\r\n",
        "    random_state=10\r\n",
        ")\r\n",
        "\r\n",
        "print(\"X shape:\", X.shape, sep='\\t')\r\n",
        "print(\"y shape:\", y.shape, sep='\\t')"
      ],
      "execution_count": 2,
      "outputs": [
        {
          "output_type": "stream",
          "text": [
            "X shape:\t(50, 1)\n",
            "y shape:\t(50,)\n"
          ],
          "name": "stdout"
        }
      ]
    },
    {
      "cell_type": "markdown",
      "metadata": {
        "id": "xmkYehMiaPlV"
      },
      "source": [
        "Create a scatter plot of all datapoints to see our data"
      ]
    },
    {
      "cell_type": "code",
      "metadata": {
        "id": "Mam6xKvXZ6FP",
        "colab": {
          "base_uri": "https://localhost:8080/",
          "height": 282
        },
        "outputId": "0ff70b52-cb32-4574-db09-5eb8bca19dbd"
      },
      "source": [
        "from matplotlib import pyplot as plt\r\n",
        "\r\n",
        "plt.scatter(X,y,marker='o')"
      ],
      "execution_count": 3,
      "outputs": [
        {
          "output_type": "execute_result",
          "data": {
            "text/plain": [
              "<matplotlib.collections.PathCollection at 0x7f180a98bb38>"
            ]
          },
          "metadata": {
            "tags": []
          },
          "execution_count": 3
        },
        {
          "output_type": "display_data",
          "data": {
            "image/png": "[encoded data removed]",
            "text/plain": [
              "<Figure size 432x288 with 1 Axes>"
            ]
          },
          "metadata": {
            "tags": [],
            "needs_background": "light"
          }
        }
      ]
    },
    {
      "cell_type": "markdown",
      "metadata": {
        "id": "Q59lV2qy1Hnu"
      },
      "source": [
        "Attach a vector of ones onto **X** to account for the bias value"
      ]
    },
    {
      "cell_type": "code",
      "metadata": {
        "id": "1FZ5WfvM1HQI",
        "colab": {
          "base_uri": "https://localhost:8080/",
          "height": 0
        },
        "outputId": "d3c30f3b-2928-4dd6-f97a-80e3f24ae57a"
      },
      "source": [
        "ones = np.ones((50,1))\r\n",
        "print(ones.shape)\r\n",
        "X = np.hstack((X,ones))\r\n",
        "\r\n",
        "\r\n",
        "print(\"X shape:\", X.shape, sep='\\t')\r\n",
        "print(\"y shape:\", y.shape, sep='\\t')"
      ],
      "execution_count": 4,
      "outputs": [
        {
          "output_type": "stream",
          "text": [
            "(50, 1)\n",
            "X shape:\t(50, 2)\n",
            "y shape:\t(50,)\n"
          ],
          "name": "stdout"
        }
      ]
    },
    {
      "cell_type": "markdown",
      "metadata": {
        "id": "o0iCfv7A1V4u"
      },
      "source": [
        "Using **train_test_split** from sklearn, seperate the data using a 60, 20, 20 split.\r\n",
        "\r\n",
        "* Make sure to suffle the dataset using a **random_state** of 42\r\n",
        "\r\n",
        "**Hint:** \r\n",
        "\r\n",
        "* This can be done easily with 2 calls to **train_test_split**. \r\n",
        "\r\n",
        "* The first call will split the data into train/test, and the second will split the train data into train/val\r\n",
        "\r\n",
        "**Note:** \r\n",
        "\r\n",
        "Though we will have no use for the validation set in this question since we are merely concerned with creating all the required implementations at this time, it will be vital in the next question."
      ]
    },
    {
      "cell_type": "code",
      "metadata": {
        "id": "zDIxO-VZz5-j",
        "colab": {
          "base_uri": "https://localhost:8080/",
          "height": 0
        },
        "outputId": "e1a651ae-6b03-4d3c-9c25-7fa62ebdb538"
      },
      "source": [
        "from sklearn.model_selection import train_test_split\r\n",
        "\r\n",
        "xtrain, xtest, ytrain, ytest = train_test_split(X,y,test_size=0.2,random_state=42)\r\n",
        "xtrain, xval, ytrain, yval = train_test_split(xtrain,ytrain,test_size=0.25,random_state=42)\r\n",
        "\r\n",
        "print(\"xtrain shape:\", xtrain.shape, sep='\\t')\r\n",
        "print(\"xval shape:\", xval.shape, sep='\\t')\r\n",
        "print(\"xtest shape:\", xtest.shape, '\\n', sep='\\t')\r\n",
        "\r\n",
        "print(\"ytrain shape:\", ytrain.shape, sep='\\t')\r\n",
        "print(\"yval shape:\", yval.shape, sep='\\t')\r\n",
        "print(\"ytest shape:\", ytest.shape, sep='\\t')"
      ],
      "execution_count": 5,
      "outputs": [
        {
          "output_type": "stream",
          "text": [
            "xtrain shape:\t(30, 2)\n",
            "xval shape:\t(10, 2)\n",
            "xtest shape:\t(10, 2)\t\n",
            "\n",
            "ytrain shape:\t(30,)\n",
            "yval shape:\t(10,)\n",
            "ytest shape:\t(10,)\n"
          ],
          "name": "stdout"
        }
      ]
    },
    {
      "cell_type": "markdown",
      "metadata": {
        "id": "Zlm5k9gDf4bh"
      },
      "source": [
        "### OLS"
      ]
    },
    {
      "cell_type": "markdown",
      "metadata": {
        "id": "_vN_svN5hr1f"
      },
      "source": [
        "Define a function *get_loss* that takes the inputs X, y, and W and calculates the loss required (MSE). Its skeleton is shown below.\r\n",
        "\r\n",
        "For full credit, create a vectorized implementation (no for loops)."
      ]
    },
    {
      "cell_type": "code",
      "metadata": {
        "id": "UF41wAsRhrOG"
      },
      "source": [
        "def get_loss(X, y, W):\r\n",
        "    term_1=y-X.dot(W)\r\n",
        "    term_2=term_1.transpose()\r\n",
        "    loss =term_2.dot(term_1)\r\n",
        "    return loss"
      ],
      "execution_count": 6,
      "outputs": []
    },
    {
      "cell_type": "markdown",
      "metadata": {
        "id": "W5CtrKUday0Q"
      },
      "source": [
        "Using the derivation done in class, implement the closed form solution for ordinary least squares.\r\n",
        "\r\n",
        "Do this by defining a function *OLS* that takes the inputs $\\mathbf{X}$ and $\\mathbf{y}$ and returns $\\mathbf{w}$. Its skeleton is shown below.\r\n",
        "\r\n",
        "For full credit, do not use the inverse function\r\n",
        "\r\n",
        "**Hint:** you may want to look into *numpy.linalg.solve* "
      ]
    },
    {
      "cell_type": "code",
      "metadata": {
        "id": "7UBVsYH_0xWl",
        "colab": {
          "base_uri": "https://localhost:8080/",
          "height": 0
        },
        "outputId": "3f3461db-dfb3-4fad-fe85-456e38ed5b61"
      },
      "source": [
        "def OLS(X, y):\r\n",
        "    A=X.transpose().dot(X)\r\n",
        "    b=X.transpose().dot(y)\r\n",
        "    W=np.linalg.solve(A,b)\r\n",
        "    return W\r\n",
        "\r\n",
        "W_ols = OLS(xtrain, ytrain)\r\n",
        "print(\"W_ols:\", W_ols)"
      ],
      "execution_count": 7,
      "outputs": [
        {
          "output_type": "stream",
          "text": [
            "W_ols: [ 1.01054998e+02 -8.83448668e-02]\n"
          ],
          "name": "stdout"
        }
      ]
    },
    {
      "cell_type": "markdown",
      "metadata": {
        "id": "PVamkAfJa932"
      },
      "source": [
        "Create the following plots:\r\n",
        "* a scatter plot of the training data overlayed by the OLS solution\r\n",
        "* a scatter plot of the testing data overlayed by the OLS solution "
      ]
    },
    {
      "cell_type": "code",
      "metadata": {
        "id": "fW7QTvQQ1-T0",
        "colab": {
          "base_uri": "https://localhost:8080/",
          "height": 299
        },
        "outputId": "c471aa1a-14b2-4106-e1c4-de672fcdf6ca"
      },
      "source": [
        "from matplotlib import pyplot as plt\r\n",
        "\r\n",
        "plt.scatter(xtrain[:,0],ytrain,marker='o')\r\n",
        "plt.plot(xtrain, W_ols[0]*xtrain+W_ols[1], 'b')\r\n",
        "plt.scatter(xtest[:,0],ytest,marker='+')\r\n",
        "plt.plot(xtest,W_ols[0]*xtest+W_ols[1],'r')"
      ],
      "execution_count": 8,
      "outputs": [
        {
          "output_type": "execute_result",
          "data": {
            "text/plain": [
              "[<matplotlib.lines.Line2D at 0x7f1809fa3668>,\n",
              " <matplotlib.lines.Line2D at 0x7f1809fa3f60>]"
            ]
          },
          "metadata": {
            "tags": []
          },
          "execution_count": 8
        },
        {
          "output_type": "display_data",
          "data": {
            "image/png": "[encoded data removed]",
            "text/plain": [
              "<Figure size 432x288 with 1 Axes>"
            ]
          },
          "metadata": {
            "tags": [],
            "needs_background": "light"
          }
        }
      ]
    },
    {
      "cell_type": "markdown",
      "metadata": {
        "id": "3Cp9D7DSbnbF"
      },
      "source": [
        "Compute training loss and testing loss using the *get_loss* function you have previously defined "
      ]
    },
    {
      "cell_type": "code",
      "metadata": {
        "id": "B0iNW6w93nfj",
        "colab": {
          "base_uri": "https://localhost:8080/",
          "height": 0
        },
        "outputId": "66bc2de6-8623-4f09-9eca-763ab8b84c7d"
      },
      "source": [
        "loss_train = get_loss(xtrain,ytrain,W_ols)\r\n",
        "loss_test = get_loss(xtest,ytest,W_ols)\r\n",
        "\r\n",
        "print(\"Training Loss:\", loss_train)\r\n",
        "print(\"Testing Loss:\", loss_test)"
      ],
      "execution_count": 9,
      "outputs": [
        {
          "output_type": "stream",
          "text": [
            "Training Loss: 931.7441303764379\n",
            "Testing Loss: 428.51876889248445\n"
          ],
          "name": "stdout"
        }
      ]
    },
    {
      "cell_type": "markdown",
      "metadata": {
        "id": "CBhLpnDhgAjf"
      },
      "source": [
        "### Ridge"
      ]
    },
    {
      "cell_type": "markdown",
      "metadata": {
        "id": "H00sDTfPbwDq"
      },
      "source": [
        "Define a function *get_ridge_loss* that takes the inputs X, y, W, and $\\lambda$ and calculates the loss required (MSE with L2 regularization). \r\n",
        "\r\n",
        "Its skeleton is shown below.\r\n",
        "\r\n",
        "For full credit, create a vectorized implementation (no for loops)."
      ]
    },
    {
      "cell_type": "code",
      "metadata": {
        "id": "AelQiKx0chaT"
      },
      "source": [
        "def get_ridge_loss(X, y, W, lmda):\r\n",
        "    term_1=y-X.dot(W)\r\n",
        "    term_2=term_1.transpose()\r\n",
        "    reg=lmda*W.transpose().dot(W)\r\n",
        "    loss =term_2.dot(term_1)+reg\r\n",
        "    return loss"
      ],
      "execution_count": 10,
      "outputs": []
    },
    {
      "cell_type": "markdown",
      "metadata": {
        "id": "_FXBpy1idcp5"
      },
      "source": [
        "Using your derivation from question 1, implement the closed form solution for ridge regression.\r\n",
        "\r\n",
        "Do this by defining a function *ridge* that takes the inputs $\\mathbf{X}$, $\\mathbf{y}$, and $\\lambda$ and returns $\\mathbf{w}$. Its skeleton is shown below.\r\n",
        "\r\n",
        "For full credit, do not use the inverse function\r\n",
        "\r\n",
        "For now, we will set $\\lambda = 0.1$. \r\n",
        "This performance will not be optimal, but we will worry about this later"
      ]
    },
    {
      "cell_type": "code",
      "metadata": {
        "id": "CQPFvmv9cuv2",
        "colab": {
          "base_uri": "https://localhost:8080/",
          "height": 0
        },
        "outputId": "b82f1d5f-d0a1-4920-9aaa-762700e8a0ff"
      },
      "source": [
        "def ridge(X, y, lmda):\r\n",
        "    b=X.transpose().dot(y)\r\n",
        "    n=len(b)\r\n",
        "    lmda_mat=lmda*np.identity(n)\r\n",
        "    A=X.transpose().dot(X)+lmda_mat\r\n",
        "    W = np.linalg.solve(A,b)\r\n",
        "\r\n",
        "    return W\r\n",
        "\r\n",
        "lmda = 0.1\r\n",
        "W_ridge = ridge(xtrain, ytrain, lmda)\r\n",
        "print(\"W_ridge:\", W_ridge)"
      ],
      "execution_count": 11,
      "outputs": [
        {
          "output_type": "stream",
          "text": [
            "W_ridge: [ 1.00606862e+02 -2.34634212e-02]\n"
          ],
          "name": "stdout"
        }
      ]
    },
    {
      "cell_type": "markdown",
      "metadata": {
        "id": "6oyzimeBZTyW"
      },
      "source": [
        "Create the following plots:\r\n",
        "* a scatter plot of the training data overlayed by the ridge solution\r\n",
        "* a scatter plot of the testing data overlayed by the ridge solution "
      ]
    },
    {
      "cell_type": "code",
      "metadata": {
        "id": "qtrPo_25ZQoP",
        "colab": {
          "base_uri": "https://localhost:8080/",
          "height": 299
        },
        "outputId": "b02262ad-818a-421b-e547-d224bba48382"
      },
      "source": [
        "from matplotlib import pyplot as plt\r\n",
        "\r\n",
        "plt.scatter(xtrain[:,0],ytrain,marker='o')\r\n",
        "plt.plot(xtrain, W_ridge[0]*xtrain+W_ridge[1], 'b')\r\n",
        "plt.scatter(xtest[:,0],ytest,marker='+')\r\n",
        "plt.plot(xtest,W_ridge[0]*xtest+W_ridge[1],'r')\r\n"
      ],
      "execution_count": 12,
      "outputs": [
        {
          "output_type": "execute_result",
          "data": {
            "text/plain": [
              "[<matplotlib.lines.Line2D at 0x7f1809f2feb8>,\n",
              " <matplotlib.lines.Line2D at 0x7f1809f3c7f0>]"
            ]
          },
          "metadata": {
            "tags": []
          },
          "execution_count": 12
        },
        {
          "output_type": "display_data",
          "data": {
            "image/png": "[encoded data removed]",
            "text/plain": [
              "<Figure size 432x288 with 1 Axes>"
            ]
          },
          "metadata": {
            "tags": [],
            "needs_background": "light"
          }
        }
      ]
    },
    {
      "cell_type": "markdown",
      "metadata": {
        "id": "aQ_SS8CqbE6J"
      },
      "source": [
        "Compute training loss and testing loss using the *get_ridge_loss* function you have previously defined "
      ]
    },
    {
      "cell_type": "code",
      "metadata": {
        "id": "LbBFX7qgaUG7",
        "colab": {
          "base_uri": "https://localhost:8080/",
          "height": 0
        },
        "outputId": "33f7b96f-5f15-4036-b1ad-05983d6d82c4"
      },
      "source": [
        "loss_train = get_ridge_loss(xtrain,ytrain,W_ridge,lmda)\r\n",
        "loss_test = get_ridge_loss(xtest,ytest,W_ridge,lmda)\r\n",
        "\r\n",
        "print(\"Training Loss:\", loss_train)\r\n",
        "print(\"Testing Loss:\", loss_test)"
      ],
      "execution_count": 13,
      "outputs": [
        {
          "output_type": "stream",
          "text": [
            "Training Loss: 1948.4269558238407\n",
            "Testing Loss: 1416.4284587303882\n"
          ],
          "name": "stdout"
        }
      ]
    },
    {
      "cell_type": "markdown",
      "metadata": {
        "id": "i5sRIf0ejGKc"
      },
      "source": [
        "### Verifying Results"
      ]
    },
    {
      "cell_type": "markdown",
      "metadata": {
        "id": "XlshXIRUkroc"
      },
      "source": [
        "Use sklearn's pre-built OLS model on our dataset and verify that your implementation matches its result\r\n",
        "\r\n",
        "Do this by printing $w_{ols}$ from your implementation and sklearn's implementation"
      ]
    },
    {
      "cell_type": "code",
      "metadata": {
        "id": "81ZnXuW2jLZM",
        "colab": {
          "base_uri": "https://localhost:8080/",
          "height": 0
        },
        "outputId": "ff721cab-326d-4553-cbce-345a1666298f"
      },
      "source": [
        "from sklearn.linear_model import LinearRegression, Lasso, Ridge\r\n",
        "\r\n",
        "# Previous result\r\n",
        "W_ols = OLS(xtrain, ytrain)\r\n",
        "print(\"W_ols:\", W_ols)\r\n",
        "\r\n",
        "# Sklearn result\r\n",
        "W_ols_sklearn = LinearRegression().fit(xtrain,ytrain)\r\n",
        "\r\n",
        "print(\"W_ols_sklearn\", W_ols_sklearn.coef_[:-1], W_ols_sklearn.intercept_)"
      ],
      "execution_count": 14,
      "outputs": [
        {
          "output_type": "stream",
          "text": [
            "W_ols: [ 1.01054998e+02 -8.83448668e-02]\n",
            "W_ols_sklearn [101.05499781] -0.08834486680807707\n"
          ],
          "name": "stdout"
        }
      ]
    },
    {
      "cell_type": "markdown",
      "metadata": {
        "id": "nNRsvB1ok8oD"
      },
      "source": [
        "Use scklearn's pre-built Ridge model on our dataset and verify that your implementation matches its result.\r\n",
        "\r\n",
        "Use the same $\\lambda = 0.1$ from the previous section\r\n",
        "\r\n",
        "Do this by printing $w_{ridge}$ from your implementation and sklearn's implementation"
      ]
    },
    {
      "cell_type": "code",
      "metadata": {
        "id": "jl0_yDasjnZw",
        "colab": {
          "base_uri": "https://localhost:8080/",
          "height": 0
        },
        "outputId": "0c281272-5ef7-4c16-a841-6dd88665d59a"
      },
      "source": [
        "from sklearn.linear_model import Ridge\r\n",
        "\r\n",
        "# Previous result\r\n",
        "W_ridge = ridge(xtrain, ytrain, lmda)\r\n",
        "print(\"W_ridge:\", W_ridge)\r\n",
        "\r\n",
        "# Sklearn result\r\n",
        "W_ridge_sklearn = Ridge(alpha=lmda).fit(xtrain,ytrain)\r\n",
        "\r\n",
        "print(\"W_ridge_sklearn\", W_ridge_sklearn.coef_[:-1], W_ridge_sklearn.intercept_)"
      ],
      "execution_count": 15,
      "outputs": [
        {
          "output_type": "stream",
          "text": [
            "W_ridge: [ 1.00606862e+02 -2.34634212e-02]\n",
            "W_ridge_sklearn [100.60687668] -0.02354380831199343\n"
          ],
          "name": "stdout"
        }
      ]
    },
    {
      "cell_type": "markdown",
      "metadata": {
        "id": "6hEmdrNqb7x7"
      },
      "source": [
        "## **Question 4:** Hyperparameter Tuning"
      ]
    },
    {
      "cell_type": "markdown",
      "metadata": {
        "id": "l_G2AH4mcJpO"
      },
      "source": [
        "Throughout this question, we will be interested in tuning the hyper parameter $\\lambda$ in ridge regression. And showing ridge's impact vs regular OLS.\r\n",
        "\r\n",
        "To do this, we will need a more complex dataset. One which has many redundant, non-informative dimensions. So we will be defining a new synthetic dataset using the code below.\r\n",
        "\r\n",
        "Our dataset will have 50 samples, and 1000 features."
      ]
    },
    {
      "cell_type": "code",
      "metadata": {
        "id": "9roTCuaffTC4",
        "colab": {
          "base_uri": "https://localhost:8080/",
          "height": 0
        },
        "outputId": "7024d34d-8fc4-4a5d-dc24-f4774ff4a67b"
      },
      "source": [
        "import numpy as np\r\n",
        "from sklearn.datasets import make_regression\r\n",
        "\r\n",
        "X, y, coefficients = make_regression(\r\n",
        "    n_samples=50,\r\n",
        "    n_features=1000,\r\n",
        "    n_informative=2,\r\n",
        "    n_targets=1,\r\n",
        "    noise=5,\r\n",
        "    coef=True,\r\n",
        "    random_state=10\r\n",
        ")\r\n",
        "y = abs(y)\r\n",
        "print(\"X shape:\", X.shape, sep='\\t')\r\n",
        "print(\"y shape:\", y.shape, sep='\\t')"
      ],
      "execution_count": 16,
      "outputs": [
        {
          "output_type": "stream",
          "text": [
            "X shape:\t(50, 1000)\n",
            "y shape:\t(50,)\n"
          ],
          "name": "stdout"
        }
      ]
    },
    {
      "cell_type": "markdown",
      "metadata": {
        "id": "nB8jOiTSeRPs"
      },
      "source": [
        "Attach a vector of ones onto **X** to account for the bias value"
      ]
    },
    {
      "cell_type": "code",
      "metadata": {
        "id": "k0qc5igrdn4i",
        "colab": {
          "base_uri": "https://localhost:8080/",
          "height": 0
        },
        "outputId": "943076dd-a8f4-448a-f6ed-5b3284b29f40"
      },
      "source": [
        "ones = np.ones((50,1))\r\n",
        "print(ones.shape)\r\n",
        "X = np.hstack((X,ones))\r\n",
        "\r\n",
        "print(\"X shape:\", X.shape, sep='\\t')\r\n",
        "print(\"y shape:\", y.shape, sep='\\t')"
      ],
      "execution_count": 17,
      "outputs": [
        {
          "output_type": "stream",
          "text": [
            "(50, 1)\n",
            "X shape:\t(50, 1001)\n",
            "y shape:\t(50,)\n"
          ],
          "name": "stdout"
        }
      ]
    },
    {
      "cell_type": "markdown",
      "metadata": {
        "id": "kMEqFbP2eZZ2"
      },
      "source": [
        "Using **train_test_split** from sklearn, separate the data using a 60, 20, 20 split.\r\n",
        "\r\n",
        "* Make sure to suffle the dataset using a **random_state** of 42\r\n",
        "\r\n",
        "**Hint:** \r\n",
        "\r\n",
        "* This can be done easily with 2 calls to **train_test_split**. \r\n",
        "\r\n",
        "* The first call will split the data into train/test, and the second will split the train data into train/val\r\n"
      ]
    },
    {
      "cell_type": "code",
      "metadata": {
        "id": "x1kbvkRZn-d9",
        "colab": {
          "base_uri": "https://localhost:8080/",
          "height": 0
        },
        "outputId": "e482e4d2-eaa1-4d3f-f03a-3be6544b4d39"
      },
      "source": [
        "from sklearn.model_selection import train_test_split\r\n",
        "\r\n",
        "xtrain, xtest, ytrain, ytest = train_test_split(X,y,test_size=0.2,random_state=42)\r\n",
        "xtrain, xval, ytrain, yval = train_test_split(xtrain,ytrain,test_size=0.25,random_state=42)\r\n",
        "\r\n",
        "print(\"xtrain shape:\", xtrain.shape, sep='\\t')\r\n",
        "print(\"xval shape:\", xval.shape, sep='\\t')\r\n",
        "print(\"xtest shape:\", xtest.shape, '\\n', sep='\\t')\r\n",
        "\r\n",
        "print(\"ytrain shape:\", ytrain.shape, sep='\\t')\r\n",
        "print(\"yval shape:\", yval.shape, sep='\\t')\r\n",
        "print(\"ytest shape:\", ytest.shape, sep='\\t')"
      ],
      "execution_count": 18,
      "outputs": [
        {
          "output_type": "stream",
          "text": [
            "xtrain shape:\t(30, 1001)\n",
            "xval shape:\t(10, 1001)\n",
            "xtest shape:\t(10, 1001)\t\n",
            "\n",
            "ytrain shape:\t(30,)\n",
            "yval shape:\t(10,)\n",
            "ytest shape:\t(10,)\n"
          ],
          "name": "stdout"
        }
      ]
    },
    {
      "cell_type": "markdown",
      "metadata": {
        "id": "5Gc1HKmCfU5b"
      },
      "source": [
        "### OLS"
      ]
    },
    {
      "cell_type": "markdown",
      "metadata": {
        "id": "EkmPvDCxejAr"
      },
      "source": [
        "Using your implementation from the previous question,\r\n",
        "get the OLS solution on this dataset."
      ]
    },
    {
      "cell_type": "code",
      "metadata": {
        "id": "yTTXNGCJetfW",
        "colab": {
          "base_uri": "https://localhost:8080/",
          "height": 0
        },
        "outputId": "9a625574-5186-465b-c4fe-989cb36be96e"
      },
      "source": [
        "W_ols = OLS(xtrain,ytrain)\r\n",
        "print(\"W_ols:\", W_ols[:10])    # For the sake of cleanliness we will only print first 10 coefficients"
      ],
      "execution_count": 19,
      "outputs": [
        {
          "output_type": "stream",
          "text": [
            "W_ols: [ -13.26861093  298.01003142 -127.44260886  106.46641054  303.01110206\n",
            " -131.63697552   80.12829674 -289.14061156 -444.02100392  -72.2118103 ]\n"
          ],
          "name": "stdout"
        }
      ]
    },
    {
      "cell_type": "markdown",
      "metadata": {
        "id": "ATeeqIUmeyaF"
      },
      "source": [
        "Using your loss function from the previous question, obtain the train, val, and test losses of OLS.\r\n",
        "\r\n",
        "Is this solution over fitting the data? Explain."
      ]
    },
    {
      "cell_type": "code",
      "metadata": {
        "id": "Y7_ljfseeu2Z",
        "colab": {
          "base_uri": "https://localhost:8080/",
          "height": 0
        },
        "outputId": "f7dd44c3-b473-4a6c-e286-03c55d8665f4"
      },
      "source": [
        "loss_train = get_loss(xtrain,ytrain,W_ols)\r\n",
        "loss_val = get_loss(xval,yval,W_ols)\r\n",
        "loss_test = get_loss(xtest,ytest,W_ols)\r\n",
        "\r\n",
        "print(\"Training Loss:\", loss_train)\r\n",
        "print(\"Validation Loss:\", loss_val)\r\n",
        "print(\"Testing Loss:\", loss_test)"
      ],
      "execution_count": 20,
      "outputs": [
        {
          "output_type": "stream",
          "text": [
            "Training Loss: 2.785109936337628e-22\n",
            "Validation Loss: 146750236.1521715\n",
            "Testing Loss: 168834610.83436024\n"
          ],
          "name": "stdout"
        }
      ]
    },
    {
      "cell_type": "markdown",
      "metadata": {
        "id": "8DgKGD-yfD5l"
      },
      "source": [
        "**Answer:\r\n",
        "The solution is DEFINITELY overfitting the data because the training loss is virtually zero while the validation and test loss is huge. That means that the solution must be too heavily tailored to the training data (i.e. it must be overfitting).**"
      ]
    },
    {
      "cell_type": "markdown",
      "metadata": {
        "id": "jGljVyVpfXFs"
      },
      "source": [
        "### Ridge"
      ]
    },
    {
      "cell_type": "markdown",
      "metadata": {
        "id": "ZOCRHgVxdws6"
      },
      "source": [
        "Using your implementation from the previous question, and your validations data, tune the $\\lambda$ parameter of ridge regression. \r\n",
        "\r\n",
        "Do this by creating a loop that varies $\\lambda$ from 10e-20 to 10e-1 in factors of 10.\r\n",
        "\r\n",
        "On each iteration \r\n",
        "* calculate W_ridge using your previous implementation\r\n",
        "* calculate training and validation loss\r\n",
        "* store the training loss, validation loss, and $\\lambda$ value. These will be needed for the coming plots."
      ]
    },
    {
      "cell_type": "code",
      "metadata": {
        "id": "QUnyO-M6gADb",
        "colab": {
          "base_uri": "https://localhost:8080/",
          "height": 0
        },
        "outputId": "5e3938ab-2389-425d-9ea8-cf3b25c5005c"
      },
      "source": [
        "train_loss_arr = []\r\n",
        "val_loss_arr = []\r\n",
        "lmdas = []\r\n",
        "new_lmda = 10E-20\r\n",
        "\r\n",
        "for i in range(0, 20):\r\n",
        "     lmdas.append(new_lmda)\r\n",
        "     new_lmda=new_lmda*10\r\n",
        "     W_ridge = ridge(xtrain, ytrain, new_lmda)\r\n",
        "     loss_train = get_ridge_loss(xtrain,ytrain,W_ridge,new_lmda)\r\n",
        "     train_loss_arr.append(loss_train)\r\n",
        "     loss_val = get_ridge_loss(xval,yval,W_ridge,new_lmda)\r\n",
        "     val_loss_arr.append(loss_val)\r\n",
        "\r\n",
        "\r\n",
        "\r\n",
        "#Sanity checks\r\n",
        "print(lmdas)\r\n",
        "print(len(lmdas))\r\n",
        "print(train_loss_arr)\r\n",
        "print(len(train_loss_arr))\r\n",
        "print(val_loss_arr)\r\n",
        "print(len(val_loss_arr))\r\n"
      ],
      "execution_count": 30,
      "outputs": [
        {
          "output_type": "stream",
          "text": [
            "[1e-19, 1e-18, 1e-17, 1.0000000000000001e-16, 1e-15, 1.0000000000000002e-14, 1.0000000000000002e-13, 1.0000000000000002e-12, 1.0000000000000001e-11, 1.0000000000000002e-10, 1.0000000000000003e-09, 1.0000000000000004e-08, 1.0000000000000004e-07, 1.0000000000000004e-06, 1.0000000000000004e-05, 0.00010000000000000005, 0.0010000000000000005, 0.010000000000000005, 0.10000000000000006, 1.0000000000000007]\n",
            "20\n",
            "[1.0533485557230797e-11, 1.0533485556980137e-10, 1.053348555695507e-09, 6.044335279200504e-08, 2.9578416605740337e-09, 2.942732413838065e-07, 2.3321201452148604e-10, 2.2128001305728027e-09, 2.2115113523430577e-08, 2.2115007608885582e-07, 2.2115006366576263e-06, 2.21150063528761e-05, 0.0002211500633260262, 0.0022115006131064804, 0.022115004115698295, 0.22114983962054277, 2.211478242771093, 22.11276729392674, 220.92636898240616, 2189.34046323194]\n",
            "20\n",
            "[146750236.1521715, 146750236.1521715, 146750236.1521715, 746752601.2816122, 3330255.6962918127, 17192248.35305938, 187972.94765532447, 188102.04359809944, 187827.87728335694, 187826.4835818343, 187833.14705679877, 187833.13446040358, 187833.14365103893, 187833.14510472777, 187833.1622751143, 187833.3373924219, 187835.08860350845, 187852.59702236584, 188027.31305942032, 189738.23798628605]\n",
            "20\n"
          ],
          "name": "stdout"
        }
      ]
    },
    {
      "cell_type": "markdown",
      "metadata": {
        "id": "Kkv3n1yaebyS"
      },
      "source": [
        "Create a plot of the losses as a function of lamda"
      ]
    },
    {
      "cell_type": "code",
      "metadata": {
        "colab": {
          "base_uri": "https://localhost:8080/",
          "height": 294
        },
        "id": "jYK_NqPIgYjX",
        "outputId": "e97040e6-ee22-431f-8cb5-48d0702c0615"
      },
      "source": [
        "from matplotlib import pyplot as plt\r\n",
        "\r\n",
        "plt.plot(lmdas,train_loss_arr,label='train',color='r')\r\n",
        "plt.plot(lmdas,val_loss_arr,label='val',color='b')\r\n",
        "plt.xlabel('Lambda')\r\n",
        "plt.ylabel('Loss')\r\n",
        "plt.legend([\"train\",\"val\"])\r\n",
        "plt.xlim(10E-20,10E-3)\r\n",
        "array=[10E-18, 10E-15, 10E-12, 10E-9, 10E-6, 10E-3]\r\n",
        "plt.xticks(array)\r\n",
        "plt.xscale('log')\r\n",
        "\r\n",
        "\r\n",
        "\r\n"
      ],
      "execution_count": 31,
      "outputs": [
        {
          "output_type": "display_data",
          "data": {
            "image/png": "[encoded data removed]",
            "text/plain": [
              "<Figure size 432x288 with 1 Axes>"
            ]
          },
          "metadata": {
            "tags": [],
            "needs_background": "light"
          }
        }
      ]
    },
    {
      "cell_type": "markdown",
      "metadata": {
        "id": "zZOu07Wpgxl2"
      },
      "source": [
        "Identify the best lambda $\\lambda^*$, and train your final classifier $W^*_{ridge}$ on both the training and the validation data together."
      ]
    },
    {
      "cell_type": "code",
      "metadata": {
        "colab": {
          "base_uri": "https://localhost:8080/",
          "height": 0
        },
        "id": "ZNC6XEfhYTmq",
        "outputId": "baf8c8ff-5168-47a9-e0bb-ceb65edf92a3"
      },
      "source": [
        "# Identifying lambda_star\r\n",
        "#The value of lambda is the one that minimizes val_loss_arr, but has train_loss_array around one i.e. 10E-3\r\n",
        "#literally checked this using plug and chug later\r\n",
        "lmda_star = 10e-3\r\n",
        "\r\n",
        "# Creating final xtrain and ytrain\r\n",
        "xtrain_final = np.concatenate((xtrain,xval),axis=0)\r\n",
        "ytrain_final = np.concatenate((ytrain,yval),axis=0)\r\n",
        "print(xtrain_final.shape,ytrain_final.shape)\r\n",
        "# Calculating W_ridge_star\r\n",
        "W_ridge_star = ridge(xtrain_final,ytrain_final,lmda_star)\r\n",
        "\r\n",
        "print(\"lmda_star:\", lmda_star)\r\n",
        "print(\"W_ridge_star:\", W_ridge_star[:10]) # For the sake of cleanliness we will only print first 10 coefficients"
      ],
      "execution_count": 50,
      "outputs": [
        {
          "output_type": "stream",
          "text": [
            "(40, 1001) (40,)\n",
            "lmda_star: 0.01\n",
            "W_ridge_star: [ 0.36653702 -0.56248098  1.71947303 -0.51838903  0.60805999 -0.43737682\n",
            " -0.8218014   0.033005    0.88511027 -0.95337264]\n"
          ],
          "name": "stdout"
        }
      ]
    },
    {
      "cell_type": "markdown",
      "metadata": {
        "id": "x4NkOKPphlZV"
      },
      "source": [
        "Using your loss function *get_ridge_loss* from the previous question, obtain the train, val, and test losses of $W_{ridge}^*$. Then answer the following questions:\r\n",
        "* Are we overfitting the dataset? Explain.\r\n",
        "* How are we performing compared to OLS"
      ]
    },
    {
      "cell_type": "code",
      "metadata": {
        "colab": {
          "base_uri": "https://localhost:8080/",
          "height": 0
        },
        "id": "lAcKos3phh89",
        "outputId": "ee06e746-2fee-4147-e922-00ae331e6466"
      },
      "source": [
        "loss_train = get_ridge_loss(xtrain,ytrain,W_ridge_star,lmda_star)\r\n",
        "loss_val = get_ridge_loss(xval,yval,W_ridge_star,lmda_star)\r\n",
        "loss_test = get_ridge_loss(xtest,ytest,W_ridge_star,lmda_star)\r\n",
        "\r\n",
        "print(\"Training Loss:\", loss_train)\r\n",
        "print(\"Validation Loss:\", loss_val)\r\n",
        "print(\"Testing Loss:\", loss_test)"
      ],
      "execution_count": 51,
      "outputs": [
        {
          "output_type": "stream",
          "text": [
            "Training Loss: 4.175775079514492\n",
            "Validation Loss: 4.175770352348638\n",
            "Testing Loss: 82376.2055939743\n"
          ],
          "name": "stdout"
        }
      ]
    },
    {
      "cell_type": "markdown",
      "metadata": {
        "id": "RD3KrymEiNr1"
      },
      "source": [
        "**Answer:\r\n",
        "I still believe that the data is being overfitted. Even though validation loss is now very low in addition to training, the test loss is still much higher. This is still WAY better than the OLS solution because the OLS solution had test loss on the order of $10^8$ and this has test loss on the order of $10^4$.** "
      ]
    }
  ]
}