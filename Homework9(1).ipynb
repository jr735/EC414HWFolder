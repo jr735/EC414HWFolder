{
  "nbformat": 4,
  "nbformat_minor": 0,
  "metadata": {
    "colab": {
      "name": "Homework9(1).ipynb",
      "provenance": [],
      "collapsed_sections": [],
      "include_colab_link": true
    },
    "kernelspec": {
      "name": "python3",
      "display_name": "Python 3"
    },
    "language_info": {
      "name": "python"
    }
  },
  "cells": [
    {
      "cell_type": "markdown",
      "metadata": {
        "id": "view-in-github",
        "colab_type": "text"
      },
      "source": [
        "<a href=\"https://colab.research.google.com/github/jr735/EC414HWFolder/blob/master/Homework9(1).ipynb\" target=\"_parent\"><img src=\"https://colab.research.google.com/assets/colab-badge.svg\" alt=\"Open In Colab\"/></a>"
      ]
    },
    {
      "cell_type": "markdown",
      "metadata": {
        "id": "O4fyFskoK4Ub"
      },
      "source": [
        "# Homework 9 Backpropagation and introduction to Pytorch\n",
        "Due on April 21th"
      ]
    },
    {
      "cell_type": "markdown",
      "metadata": {
        "id": "I9xF7q68KE7j"
      },
      "source": [
        "## Problem 1: Backprop in a simple MLP\n",
        "Here, we ask you to derive all the steps of the backpropagation algorithm for a simple classification network. Consider a fully-connected neural network, also known as a multi-layer perceptron (MLP), with a single hidden layer and a one-node output layer. The hidden and output nodes use an elementwise sigmoid activation function and the loss layer uses cross-entropy loss:\n",
        "<p>\n",
        "$f(z)=\\frac{1}{1+exp(-z))}$\n",
        "<br>\n",
        "$L(\\hat{y},y)=-yln(\\hat{y}) - (1-y)ln(1-\\hat{y})$\n",
        "</p>\n",
        "<p>\n",
        "The computation graph for an example network is shown below. Note that it has an equal number of nodes in the input and hidden layer (3 each), but, in general, they need not be equal. Also, to make the application of backprop easier, we show the <i>computation graph</i> which shows the dot product and activation functions as their own nodes, rather than the usual graph showing a single node for both.\n",
        "\n",
        "</p>\n",
        "\n",
        "<img src=\"https://raw.githubusercontent.com/ruizhaoz/EC414/master/mlpgraph.png\" style=\"height:200px;\">\n",
        "\n",
        "The backpropagation algorithm for an MLP is displayed below. For simplicity, we will assume no regularization on the weights, so you can ignore the terms involving $\\Omega$. The forward step is: \n",
        "\n",
        "<img src=\"https://raw.githubusercontent.com/ruizhaoz/EC414/master/forward.png\" style=\"width:200px;\">\n",
        "\n",
        "and the backward step is:\n",
        "\n",
        "<img src=\"https://raw.githubusercontent.com/ruizhaoz/EC414/master/backward.png\" style=\"width:200px;\">"
      ]
    },
    {
      "cell_type": "markdown",
      "metadata": {
        "id": "VENM1O51Lm3u"
      },
      "source": [
        "Write down each step of the backward pass explicitly for all layers, i.e. for the loss and $k=2,1$, compute all gradients above, expressing them as a function of variables $x, y, h, W, b$. <i>Hint: you should substitute the updated values for the gradient $g$ in each step and simplify as much as possible.</i>  Specifically, compute the following (we have replaced the superscript notation $u^{(i)}$ with $u^i$):\n",
        "\n",
        "**Q1.1**: $\\nabla_{\\hat{y}}L(\\hat{y},y)$"
      ]
    },
    {
      "cell_type": "markdown",
      "metadata": {
        "id": "BbpAW-DlLoPp"
      },
      "source": [
        "**Solution:**\n",
        "$$-\\frac{y}{\\hat{y}}+\\frac{1-y}{1-\\hat{y}}=(\\hat{y}-y)(1-y)$$\n"
      ]
    },
    {
      "cell_type": "markdown",
      "metadata": {
        "id": "j1fJZBj3dcYG"
      },
      "source": [
        "**Q1.2**: $\\nabla_{a^{(2)}}J$"
      ]
    },
    {
      "cell_type": "markdown",
      "metadata": {
        "id": "jXfklfb7diX1"
      },
      "source": [
        "**Solution:**\n",
        "$$(\\hat{y}-y)(1-y)\\frac{e^{-a^(2)}}{(e^{-a^(2)}+1)^2} $$\n"
      ]
    },
    {
      "cell_type": "markdown",
      "metadata": {
        "id": "xYh1E8CTiN2C"
      },
      "source": [
        "**Q1.3**: $\\nabla_{b^{(2)}}J$"
      ]
    },
    {
      "cell_type": "markdown",
      "metadata": {
        "id": "o7pIlEcqiSjP"
      },
      "source": [
        "**Solution:**\n",
        "$$(\\hat{y}-y)(1-y)\\frac{e^{-a^(2)}}{(e^{-a^(2)}+1)^2}+b^{(2)}$$\n"
      ]
    },
    {
      "cell_type": "markdown",
      "metadata": {
        "id": "Gp6SkxGwio3n"
      },
      "source": [
        "**Q1.4**: $\\nabla_{W^{(2)}}J$"
      ]
    },
    {
      "cell_type": "markdown",
      "metadata": {
        "id": "zYEhB8SYix5-"
      },
      "source": [
        "**Solution:**\n"
      ]
    },
    {
      "cell_type": "markdown",
      "metadata": {
        "id": "EGdFV93qkAni"
      },
      "source": [
        "**Q1.5**: $\\nabla_{h^{(1)}}J$ "
      ]
    },
    {
      "cell_type": "markdown",
      "metadata": {
        "id": "IWCCJapRkTZk"
      },
      "source": [
        "**Solution:**\n",
        "$$((\\hat{y}-y)(1-y)\\frac{e^{-a^(2)}}{(e^{-a^(2)}+1)^2}+b^{(2)})*h^{k-1}+W^{(2)}$$\n"
      ]
    },
    {
      "cell_type": "markdown",
      "metadata": {
        "id": "IUcN5zqukgps"
      },
      "source": [
        "**Q1.6**: $\\nabla_{b^{(1)}}J$, $\\nabla_{W^{(1)}}J$"
      ]
    },
    {
      "cell_type": "markdown",
      "metadata": {
        "id": "0q0REkiokwHg"
      },
      "source": [
        "**Solution:**\n",
        "$$((\\hat{y}-y)(1-y)\\frac{e^{-a^(2)}}{(e^{-a^(2)}+1)^2}+b^{(2)})*h^{k-1}+W^{(2)}+b^{(1)}+W^{(1)}$$\n"
      ]
    },
    {
      "cell_type": "markdown",
      "metadata": {
        "id": "aQppboJql-s4"
      },
      "source": [
        "**Q1.7** Briefly, explain how would the computational speed of backpropagation be affected if it did not save results in the forward pass?"
      ]
    },
    {
      "cell_type": "markdown",
      "metadata": {
        "id": "LD_17D3QmAqK"
      },
      "source": [
        "**Solution:**\n",
        "It would take way longer because then every result in the forward pass would be recomputed before each gradient calculated in the backwards pass."
      ]
    },
    {
      "cell_type": "markdown",
      "metadata": {
        "id": "MXTrAN89nkJd"
      },
      "source": [
        "# Problem 2: Pytorch Intro\n",
        "## **Q2.0**: Pytorch tutorials\n",
        "This homework will introduce you to [PyTorch](https://pytorch.org), currently the fastest growing deep learning library, and the one we will use in this course.\n",
        "\n",
        "Before starting the homework, please go over these introductory tutorials on the PyTorch webpage:\n",
        "\n",
        "*   [60-minute Blitz](https://pytorch.org/tutorials/beginner/deep_learning_60min_blitz.html)"
      ]
    },
    {
      "cell_type": "code",
      "metadata": {
        "id": "NrFPTKJYdaeY"
      },
      "source": [
        "import torch\n",
        "import numpy as np"
      ],
      "execution_count": 36,
      "outputs": []
    },
    {
      "cell_type": "markdown",
      "metadata": {
        "id": "i0Z5zMSRqPEG"
      },
      "source": [
        "The `torch.Tensor` class is the basic building block in PyTorch and is used to hold data and parameters. The `autograd` package provides automatic differentiation for all operations on Tensors. After reading about Autograd in the tutorials above,  we will implement a few simple examples of what Autograd can do."
      ]
    },
    {
      "cell_type": "markdown",
      "metadata": {
        "id": "MTYYQoSlqbb0"
      },
      "source": [
        "## **Q2.1**. Simple function\n",
        " Use `autograd` to do backpropagation on the simple function, $f=(x+y)*z$. \n",
        "\n",
        "**Q2.1.1** Create the three input tensors with values $x=-2$, $y=5$ and $z=-4$ as tensors and set `requires_grad=True` to track computation on them.\n",
        "\n"
      ]
    },
    {
      "cell_type": "code",
      "metadata": {
        "colab": {
          "base_uri": "https://localhost:8080/",
          "height": 0
        },
        "id": "bhABwVlxqNJp",
        "outputId": "677ebf40-3c79-4209-a0d1-8bcc0e91bc95"
      },
      "source": [
        "# solution here\n",
        "x = np.array([-2.])\n",
        "x=torch.from_numpy(x)\n",
        "x.requires_grad_(True)\n",
        "y = np.array([5.])\n",
        "y=torch.from_numpy(y)\n",
        "y.requires_grad_(True)\n",
        "z = np.array([-4.])\n",
        "z=torch.from_numpy(z)\n",
        "z.requires_grad_(True)\n",
        "print(x, y, z)"
      ],
      "execution_count": 37,
      "outputs": [
        {
          "output_type": "stream",
          "text": [
            "tensor([-2.], dtype=torch.float64, requires_grad=True) tensor([5.], dtype=torch.float64, requires_grad=True) tensor([-4.], dtype=torch.float64, requires_grad=True)\n"
          ],
          "name": "stdout"
        }
      ]
    },
    {
      "cell_type": "markdown",
      "metadata": {
        "id": "QVIMV4oUqoDD"
      },
      "source": [
        "**Q2.1.2** Compute the $q=x+y$ and $f=q \\times z$ functions, creating tensors for them in the process. Print out $q,f$, then run `f.backward(retain_graph=True)`, to compute the gradients w.r.t. $x,y,z$. The `retain_graph` attribute tells autograd to keep the computation graph around after backward pass as opposed deleting it (freeing some memory). Print the gradients. Note that the gradient for $q$ will be `None` since it is an intermediate node, even though `requires_grad` for it is automatically set to `True`. To access gradients for intermediate nodes in PyTorch you can use hooks as mentioned in [this answer](https://discuss.pytorch.org/t/why-cant-i-see-grad-of-an-intermediate-variable/94/2). Compute the values by hand (or check the slides) to verify your solution."
      ]
    },
    {
      "cell_type": "code",
      "metadata": {
        "id": "PTON_Ch6q0zX",
        "colab": {
          "base_uri": "https://localhost:8080/",
          "height": 0
        },
        "outputId": "39c5bed9-f69c-44ec-e3bf-d0d21442bad9"
      },
      "source": [
        "# solution here\n",
        "q = torch.add(x,y)\n",
        "f = torch.mul(q,z)\n",
        "print(q, f)\n",
        "# compute the gradient\n",
        "f.backward(retain_graph=True)\n",
        "print(x.grad, y.grad, z.grad, q.grad, f.grad)"
      ],
      "execution_count": 38,
      "outputs": [
        {
          "output_type": "stream",
          "text": [
            "tensor([3.], dtype=torch.float64, grad_fn=<AddBackward0>) tensor([-12.], dtype=torch.float64, grad_fn=<MulBackward0>)\n",
            "tensor([-4.], dtype=torch.float64) tensor([-4.], dtype=torch.float64) tensor([3.], dtype=torch.float64) None None\n"
          ],
          "name": "stdout"
        },
        {
          "output_type": "stream",
          "text": [
            "/usr/local/lib/python3.7/dist-packages/ipykernel_launcher.py:7: UserWarning: The .grad attribute of a Tensor that is not a leaf Tensor is being accessed. Its .grad attribute won't be populated during autograd.backward(). If you indeed want the gradient for a non-leaf Tensor, use .retain_grad() on the non-leaf Tensor. If you access the non-leaf Tensor by mistake, make sure you access the leaf Tensor instead. See github.com/pytorch/pytorch/pull/30531 for more informations.\n",
            "  import sys\n"
          ],
          "name": "stderr"
        }
      ]
    },
    {
      "cell_type": "markdown",
      "metadata": {
        "id": "2pfwkA3yq3Mz"
      },
      "source": [
        "**Q2.1.3** If we now run `backward()` again, it will add the gradients to their previous values. Try it by running the above cell multiple times. This is useful in some cases, but if we just wanted to re-compute the gradients again, we need to zero them first, then run `backward()`. Add this step, then try running the  backward function multiple times to make sure the answer is the same each time!"
      ]
    },
    {
      "cell_type": "code",
      "metadata": {
        "colab": {
          "base_uri": "https://localhost:8080/",
          "height": 0
        },
        "id": "6FKH2O14q8uL",
        "outputId": "43a488e0-84d1-4791-d57e-18d2907a3e1e"
      },
      "source": [
        "# solution here\n",
        "# zero the gradient\n",
        "x.grad.zero_()\n",
        "y.grad.zero_()\n",
        "z.grad.zero_()\n",
        "\n",
        "\n",
        "print(x.grad, y.grad, z.grad, q.grad, f.grad)\n",
        "# compute the gradient again\n",
        "f.backward(retain_graph=True)\n",
        "print(x.grad, y.grad, z.grad, q.grad, f.grad)"
      ],
      "execution_count": 39,
      "outputs": [
        {
          "output_type": "stream",
          "text": [
            "tensor([0.], dtype=torch.float64) tensor([0.], dtype=torch.float64) tensor([0.], dtype=torch.float64) None None\n",
            "tensor([-4.], dtype=torch.float64) tensor([-4.], dtype=torch.float64) tensor([3.], dtype=torch.float64) None None\n"
          ],
          "name": "stdout"
        },
        {
          "output_type": "stream",
          "text": [
            "/usr/local/lib/python3.7/dist-packages/ipykernel_launcher.py:8: UserWarning: The .grad attribute of a Tensor that is not a leaf Tensor is being accessed. Its .grad attribute won't be populated during autograd.backward(). If you indeed want the gradient for a non-leaf Tensor, use .retain_grad() on the non-leaf Tensor. If you access the non-leaf Tensor by mistake, make sure you access the leaf Tensor instead. See github.com/pytorch/pytorch/pull/30531 for more informations.\n",
            "  \n",
            "/usr/local/lib/python3.7/dist-packages/ipykernel_launcher.py:11: UserWarning: The .grad attribute of a Tensor that is not a leaf Tensor is being accessed. Its .grad attribute won't be populated during autograd.backward(). If you indeed want the gradient for a non-leaf Tensor, use .retain_grad() on the non-leaf Tensor. If you access the non-leaf Tensor by mistake, make sure you access the leaf Tensor instead. See github.com/pytorch/pytorch/pull/30531 for more informations.\n",
            "  # This is added back by InteractiveShellApp.init_path()\n"
          ],
          "name": "stderr"
        }
      ]
    },
    {
      "cell_type": "markdown",
      "metadata": {
        "id": "nX01mssrrJnk"
      },
      "source": [
        "## **Q2.2** Neuron \n",
        "### 2.2.1 \n",
        "Implement the function corresponding to one neuron (logistic regression unit) that we saw in the lecture and compute the gradient w.r.t. $x$ and $w$. The function is $f=\\sigma(w^Tx)$ where $\\sigma()$ is the sigmoid function. Initialize $x=[-1, -2, 1]$ and the weights to $w=[2, -3, -3]$ where $w_3$ is the bias. Print out the gradients."
      ]
    },
    {
      "cell_type": "code",
      "metadata": {
        "id": "_qOeEIubrAn1",
        "colab": {
          "base_uri": "https://localhost:8080/",
          "height": 0
        },
        "outputId": "9f91cd88-bff3-4434-b0b4-ddc3d04a2ef2"
      },
      "source": [
        "# solution here\n",
        "import math\n",
        "x = torch.tensor([-1.,-2.,1.],requires_grad=True)\n",
        "w = torch.tensor([2.,-3.,-3.],requires_grad=True)\n",
        "arg=w.T@x\n",
        "f = torch.sigmoid(arg)\n",
        "\n",
        "print(\"\\nx=\", x, \"\\nw=\", w, \"\\nf(x,w)=\", f)\n",
        "# compute the gradient calling backward()\n",
        "f.backward(retain_graph=True)\n",
        "print(\"The gradient of f() w.r.t. x is\", x.grad)\n",
        "print(\"The gradient of f() w.r.t. w is\", w.grad)"
      ],
      "execution_count": 40,
      "outputs": [
        {
          "output_type": "stream",
          "text": [
            "\n",
            "x= tensor([-1., -2.,  1.], requires_grad=True) \n",
            "w= tensor([ 2., -3., -3.], requires_grad=True) \n",
            "f(x,w)= tensor(0.7311, grad_fn=<SigmoidBackward>)\n",
            "The gradient of f() w.r.t. x is tensor([ 0.3932, -0.5898, -0.5898])\n",
            "The gradient of f() w.r.t. w is tensor([-0.1966, -0.3932,  0.1966])\n"
          ],
          "name": "stdout"
        }
      ]
    },
    {
      "cell_type": "markdown",
      "metadata": {
        "id": "b9Zdn-SmS-dW"
      },
      "source": [
        "### 2.2.2 \n",
        "Derive the gradient $\\nabla_x f$ and  $\\nabla_\\omega f$ by hand to verify your results in 2.2.1. (Write out necessary steps i.e. chain rule, final computation results)"
      ]
    },
    {
      "cell_type": "markdown",
      "metadata": {
        "id": "8mRG8qCDTtZA"
      },
      "source": [
        "**Solution**:\n",
        "$$w^Tx=1$$\n",
        "$$\\frac{df}{dw}=\\frac{df}{d\\sigma}*\\frac{d\\sigma}{dw}= \\sigma(w^Tx)(1-\\sigma(w^Tx))\\frac{we^{-w^Tx}}{(e^{-w^Tx}+1)^2}=\\sigma(1)(1-\\sigma(1))\\frac{we^{-1}}{(e^{-1}+1)^2}=0.1966w*0.731*0.269=0.03866w=[0.077,-0.116,-0.116] $$\n",
        "$$\\frac{df}{dx}=\\frac{df}{d\\sigma}*\\frac{d\\sigma}{dx}=\\sigma(w^Tx)(1-\\sigma(w^Tx))\\frac{xe^{-w^Tx}}{(e^{-w^Tx}+1)^2}=\\sigma(1)(1-\\sigma(1))\\frac{xe^{-1}}{(e^{-1}+1)^2}=0.1966x*0.731*0.269=0.03866x=[-0.03866,-0.0773,0.03866]  $$"
      ]
    },
    {
      "cell_type": "markdown",
      "metadata": {
        "id": "9f6vmhMQr2EK"
      },
      "source": [
        "## **Q2.3**. torch.nn\n",
        "\n",
        " Implement the function corresponding to one neuron (logistic regression unit) that we saw in the lecture and compute the gradient w.r.t. $x$ and $w$. The function is $f=\\sigma(w^Tx+b)$ where $\\sigma()$ is the sigmoid function. Initialize $x=[-1, -2]$ and the weights to $w=[2, -3]$ bias $b=-3$. Now we are using but using the `Linear` class from `torch.nn`, followed by the [Sigmoid](https://pytorch.org/docs/stable/nn.html#torch.nn.Sigmoid) class. \n",
        "\n",
        "In general, many useful functions are already implemented for us in this package. Compute the gradients $\\partial f/\\partial w$ by running `backward()` and print them out (they will be stored in the Linear variable, e.g. in `.weight.grad`.) "
      ]
    },
    {
      "cell_type": "code",
      "metadata": {
        "colab": {
          "base_uri": "https://localhost:8080/",
          "height": 0
        },
        "id": "HTBMhenyr4uj",
        "outputId": "7a6f4d00-3bfa-42ca-9812-865c75711fae"
      },
      "source": [
        "# solution here\n",
        "import torch.nn as nn\n",
        "# initilize a linear layer\n",
        "linear_f = torch.nn.Linear(2,1)\n",
        "# initilize weight and bias\n",
        "linear_f.weight.data = torch.tensor([[2.,-3.]]);\n",
        "linear_f.bias.data = torch.tensor([[-3.]]);\n",
        "\n",
        "print(\"\\nweights:\", linear_f.weight)\n",
        "print(\"\\nbias:\",linear_f.bias)\n",
        "print(\"\\n:\",linear_f)\n",
        "\n",
        "m = nn.Linear(20, 30)\n",
        "input = torch.randn(128, 20)\n",
        "output = m(input)\n",
        "print(output.size())\n",
        "\n",
        "# initilize x and compute f\n",
        "x=torch.tensor([[-1.,2.]])\n",
        "lin_output=linear_f(x)\n",
        "print(lin_output)\n",
        "sigmoid_f=nn.Sigmoid()\n",
        "f = sigmoid_f(lin_output)\n",
        "print(\"\\nf:\", f)\n",
        "\n",
        "# do backprop\n",
        "f.backward(retain_graph=True)\n",
        "\n",
        "print(\"The gradient of f() w.r.t. w is\", linear_f.weight.grad, linear_f.bias.grad)"
      ],
      "execution_count": 41,
      "outputs": [
        {
          "output_type": "stream",
          "text": [
            "\n",
            "weights: Parameter containing:\n",
            "tensor([[ 2., -3.]], requires_grad=True)\n",
            "\n",
            "bias: Parameter containing:\n",
            "tensor([[-3.]], requires_grad=True)\n",
            "\n",
            ": Linear(in_features=2, out_features=1, bias=True)\n",
            "torch.Size([128, 30])\n",
            "tensor([[-11.]], grad_fn=<AddmmBackward>)\n",
            "\n",
            "f: tensor([[1.6701e-05]], grad_fn=<SigmoidBackward>)\n",
            "The gradient of f() w.r.t. w is tensor([[-1.6701e-05,  3.3402e-05]]) tensor([[1.6701e-05]])\n"
          ],
          "name": "stdout"
        }
      ]
    },
    {
      "cell_type": "markdown",
      "metadata": {
        "id": "YmTyL4tAtWZC"
      },
      "source": [
        "## **Q2.4** Module\n",
        " Now lets put these two functions (Linear and Sigmoid) together into a \"module\". Read the [Neural Networks tutorial](https://pytorch.org/tutorials/beginner/blitz/neural_networks_tutorial.html) if you have not already.\n",
        "\n",
        "**Q2.4.1** Make a subclass of the `Module` class, called `Neuron`. Set variables to the same values as above. You will need to fill out the `__init__` and the `forward` is already given."
      ]
    },
    {
      "cell_type": "code",
      "metadata": {
        "id": "4Oy9NG-gr81q"
      },
      "source": [
        "# solution here\n",
        "import torch.nn as nn\n",
        "\n",
        "class Neuron(nn.Module):\n",
        "\n",
        "    def __init__(self):\n",
        "        super(Neuron, self).__init__()\n",
        "        # an affine operation: y = weight*x + bias, with fixed parameters\n",
        "        self.linear = nn.Linear(2,1)\n",
        "        self.linear.weight.data = torch.tensor([[2.,-3.]])\n",
        "        self.linear.bias.data = torch.tensor([[-3.]])\n",
        "        # a sigmoid function\n",
        "        self.sigmoid = nn.Sigmoid()\n",
        "\n",
        "    def forward(self, x):\n",
        "        x = self.linear(x)\n",
        "        x = self.sigmoid(x)\n",
        "        return x\n"
      ],
      "execution_count": 42,
      "outputs": []
    },
    {
      "cell_type": "markdown",
      "metadata": {
        "id": "xM13evB9tj0j"
      },
      "source": [
        "**Q2.4.2** Now create a  variable of your `Neuron` class called `my_neuron` and run backpropagation on it. Print out the gradients again. Make sure you zero out the gradients first, by calling `.zero_grad()` function of the parent class. Even if you will not re-compute the backprop, it is good practice to do this every time to avoid accumulating gradient!"
      ]
    },
    {
      "cell_type": "code",
      "metadata": {
        "colab": {
          "base_uri": "https://localhost:8080/",
          "height": 0
        },
        "id": "v-VKjnu7tfgP",
        "outputId": "7754ffc4-4ea5-4037-e541-a61a936d3c36"
      },
      "source": [
        "# solution here\n",
        "my_neuron = Neuron()\n",
        "print(my_neuron)\n",
        "params = list(my_neuron.parameters())\n",
        "\n",
        "print(\"The weights are:\", params[0])  # linear layer's .weight\n",
        "# initialize the input x same as in Q2.3 and compute the output of my_neuron\n",
        "x=torch.tensor([[-1.,2.]])\n",
        "out = my_neuron(x)\n",
        "print(\"\\nf(x,w)=\", out)\n",
        "# zero the gradient of my_neuron and compute the gradient by calling backward.\n",
        "my_neuron.zero_grad()\n",
        "out.backward(retain_graph=True)\n",
        "print(\"The gradient of f() w.r.t. w is\", params[0].grad, params[1].grad)"
      ],
      "execution_count": 43,
      "outputs": [
        {
          "output_type": "stream",
          "text": [
            "Neuron(\n",
            "  (linear): Linear(in_features=2, out_features=1, bias=True)\n",
            "  (sigmoid): Sigmoid()\n",
            ")\n",
            "The weights are: Parameter containing:\n",
            "tensor([[ 2., -3.]], requires_grad=True)\n",
            "\n",
            "f(x,w)= tensor([[1.6701e-05]], grad_fn=<SigmoidBackward>)\n",
            "The gradient of f() w.r.t. w is tensor([[-1.6701e-05,  3.3402e-05]]) tensor([[1.6701e-05]])\n"
          ],
          "name": "stdout"
        }
      ]
    },
    {
      "cell_type": "markdown",
      "metadata": {
        "id": "1ywjySyatv0l"
      },
      "source": [
        "## **Q2.5**. Loss and SGD\n",
        " Now, lets train our neuron on some data. The code below creates a toy dataset containing a few inputs $x$ and outputs $y$ (a binary 0/1 label), as well as a function that plots the data and current solution."
      ]
    },
    {
      "cell_type": "code",
      "metadata": {
        "colab": {
          "base_uri": "https://localhost:8080/",
          "height": 286
        },
        "id": "s7fQKy56txsR",
        "outputId": "596efeee-3c44-4d18-a290-c055057a1f6b"
      },
      "source": [
        "import matplotlib.pyplot as plt\n",
        "\n",
        "# create some toy 2-D datapoints with binary (0/1) labels\n",
        "x = torch.tensor([[1.2, 1], [0.2, 1.4], [0.5, 0.5], \n",
        "                  [-1.5, -1.3], [0.2, -1.4], [-0.7, -0.5]])\n",
        "y = torch.tensor([0, 0, 0, 1, 1, 1 ])\n",
        "\n",
        "def plot_soln(x, y, params):\n",
        "  plt.plot(x[y==1,0], x[y==1,1], 'r+')\n",
        "  plt.plot(x[y==0,0], x[y==0,1], 'b.')\n",
        "  plt.grid(True)\n",
        "  plt.axis([-2, 2, -2, 2])\n",
        "  \n",
        "  # NOTE : This may depend on how you implement Neuron.\n",
        "  #   Change accordingly\n",
        "  w0 = params[0][0][0].item()\n",
        "  w1 = params[0][0][1].item()\n",
        "  bias = params[1][0].item()\n",
        "  \n",
        "  print(\"w0 =\", w0, \"w1 =\", w1, \"bias =\", bias)\n",
        "  dbx = torch.tensor([-2, 2])\n",
        "  dby = -(1/w1)*(w0*dbx + bias)  # plot the line corresponding to the weights and bias\n",
        "  plt.plot(dbx, dby)\n",
        "\n",
        "params = list(my_neuron.parameters())\n",
        "plot_soln(x, y, params)"
      ],
      "execution_count": 44,
      "outputs": [
        {
          "output_type": "stream",
          "text": [
            "w0 = 2.0 w1 = -3.0 bias = -3.0\n"
          ],
          "name": "stdout"
        },
        {
          "output_type": "display_data",
          "data": {
            "image/png": "[encoded data removed]",
            "text/plain": [
              "<Figure size 432x288 with 1 Axes>"
            ]
          },
          "metadata": {
            "tags": [],
            "needs_background": "light"
          }
        }
      ]
    },
    {
      "cell_type": "markdown",
      "metadata": {
        "id": "QpxhBtl8t6Th"
      },
      "source": [
        "**Q2.5.1** Declare an object `criterion` of type `nn.CrossEntropyLoss`. Note that this can be called as a function on two tensors, one representing the network outputs and the other, the targets that the network is being trained to predict, to return the loss. "
      ]
    },
    {
      "cell_type": "code",
      "metadata": {
        "colab": {
          "base_uri": "https://localhost:8080/",
          "height": 0
        },
        "id": "tEZiH8lLtnrT",
        "outputId": "caac817a-1ef5-4701-b24f-05d4bbbfc69f"
      },
      "source": [
        "# solution here\n",
        "criterion = nn.CrossEntropyLoss()\n",
        "\n",
        "# forward + backward + optimize\n",
        "outputs = my_neuron(x)\n",
        "loss = (x,y)\n",
        "print(\"loss =\", loss)"
      ],
      "execution_count": 48,
      "outputs": [
        {
          "output_type": "stream",
          "text": [
            "loss = (tensor([[ 1.2000,  1.0000],\n",
            "        [ 0.2000,  1.4000],\n",
            "        [ 0.5000,  0.5000],\n",
            "        [-1.5000, -1.3000],\n",
            "        [ 0.2000, -1.4000],\n",
            "        [-0.7000, -0.5000]]), tensor([0, 0, 0, 1, 1, 1]))\n"
          ],
          "name": "stdout"
        }
      ]
    },
    {
      "cell_type": "markdown",
      "metadata": {
        "id": "eYv8hztvuLg1"
      },
      "source": [
        "**Q2.5.2** Print out the chain of `grad_fn` functions backwards starting from `loss.grad_fn`  to demonstrate what backpropagation will be run on. This part is already given to you."
      ]
    },
    {
      "cell_type": "code",
      "metadata": {
        "colab": {
          "base_uri": "https://localhost:8080/",
          "height": 214
        },
        "id": "zM6X4OIYuG8O",
        "outputId": "60ba7222-2b4c-460b-c1a9-17a4c7ada07f"
      },
      "source": [
        "print(loss.grad_fn)  \n",
        "print(loss.grad_fn.next_functions[0][0])  \n",
        "print(loss.grad_fn.next_functions[0][0].next_functions[0][0])  \n",
        "print(loss.grad_fn.next_functions[0][0].next_functions[0][0].next_functions[0][0])  "
      ],
      "execution_count": 49,
      "outputs": [
        {
          "output_type": "error",
          "ename": "AttributeError",
          "evalue": "ignored",
          "traceback": [
            "\u001b[0;31m---------------------------------------------------------------------------\u001b[0m",
            "\u001b[0;31mAttributeError\u001b[0m                            Traceback (most recent call last)",
            "\u001b[0;32m<ipython-input-49-bed0e68ac95e>\u001b[0m in \u001b[0;36m<module>\u001b[0;34m()\u001b[0m\n\u001b[0;32m----> 1\u001b[0;31m \u001b[0mprint\u001b[0m\u001b[0;34m(\u001b[0m\u001b[0mloss\u001b[0m\u001b[0;34m.\u001b[0m\u001b[0mgrad_fn\u001b[0m\u001b[0;34m)\u001b[0m\u001b[0;34m\u001b[0m\u001b[0;34m\u001b[0m\u001b[0m\n\u001b[0m\u001b[1;32m      2\u001b[0m \u001b[0mprint\u001b[0m\u001b[0;34m(\u001b[0m\u001b[0mloss\u001b[0m\u001b[0;34m.\u001b[0m\u001b[0mgrad_fn\u001b[0m\u001b[0;34m.\u001b[0m\u001b[0mnext_functions\u001b[0m\u001b[0;34m[\u001b[0m\u001b[0;36m0\u001b[0m\u001b[0;34m]\u001b[0m\u001b[0;34m[\u001b[0m\u001b[0;36m0\u001b[0m\u001b[0;34m]\u001b[0m\u001b[0;34m)\u001b[0m\u001b[0;34m\u001b[0m\u001b[0;34m\u001b[0m\u001b[0m\n\u001b[1;32m      3\u001b[0m \u001b[0mprint\u001b[0m\u001b[0;34m(\u001b[0m\u001b[0mloss\u001b[0m\u001b[0;34m.\u001b[0m\u001b[0mgrad_fn\u001b[0m\u001b[0;34m.\u001b[0m\u001b[0mnext_functions\u001b[0m\u001b[0;34m[\u001b[0m\u001b[0;36m0\u001b[0m\u001b[0;34m]\u001b[0m\u001b[0;34m[\u001b[0m\u001b[0;36m0\u001b[0m\u001b[0;34m]\u001b[0m\u001b[0;34m.\u001b[0m\u001b[0mnext_functions\u001b[0m\u001b[0;34m[\u001b[0m\u001b[0;36m0\u001b[0m\u001b[0;34m]\u001b[0m\u001b[0;34m[\u001b[0m\u001b[0;36m0\u001b[0m\u001b[0;34m]\u001b[0m\u001b[0;34m)\u001b[0m\u001b[0;34m\u001b[0m\u001b[0;34m\u001b[0m\u001b[0m\n\u001b[1;32m      4\u001b[0m \u001b[0mprint\u001b[0m\u001b[0;34m(\u001b[0m\u001b[0mloss\u001b[0m\u001b[0;34m.\u001b[0m\u001b[0mgrad_fn\u001b[0m\u001b[0;34m.\u001b[0m\u001b[0mnext_functions\u001b[0m\u001b[0;34m[\u001b[0m\u001b[0;36m0\u001b[0m\u001b[0;34m]\u001b[0m\u001b[0;34m[\u001b[0m\u001b[0;36m0\u001b[0m\u001b[0;34m]\u001b[0m\u001b[0;34m.\u001b[0m\u001b[0mnext_functions\u001b[0m\u001b[0;34m[\u001b[0m\u001b[0;36m0\u001b[0m\u001b[0;34m]\u001b[0m\u001b[0;34m[\u001b[0m\u001b[0;36m0\u001b[0m\u001b[0;34m]\u001b[0m\u001b[0;34m.\u001b[0m\u001b[0mnext_functions\u001b[0m\u001b[0;34m[\u001b[0m\u001b[0;36m0\u001b[0m\u001b[0;34m]\u001b[0m\u001b[0;34m[\u001b[0m\u001b[0;36m0\u001b[0m\u001b[0;34m]\u001b[0m\u001b[0;34m)\u001b[0m\u001b[0;34m\u001b[0m\u001b[0;34m\u001b[0m\u001b[0m\n",
            "\u001b[0;31mAttributeError\u001b[0m: 'tuple' object has no attribute 'grad_fn'"
          ]
        }
      ]
    },
    {
      "cell_type": "markdown",
      "metadata": {
        "id": "8jQb5oh5uWG-"
      },
      "source": [
        "**Q2.5.3** Run the Stochastic Gradient Descent (SGD) optimizer from the `torch.optim` package to train your classifier on the toy dataset. Use the entire dataset in each batch. Use a learning rate of $0.01$ (no other hyperparameters). You will need to write a training loop that uses the `.step()` function of the optimizer. Plot the solution and print the loss after 10000 iterations."
      ]
    },
    {
      "cell_type": "code",
      "metadata": {
        "colab": {
          "base_uri": "https://localhost:8080/",
          "height": 303
        },
        "id": "vkm4xUHZuVQf",
        "outputId": "746ae5aa-46b6-464b-b1d7-4062ee8a7cda"
      },
      "source": [
        "# solution here\n",
        "import torch.optim as optim\n",
        "\n",
        "# create your optimizer\n",
        "optimizer = None\n",
        "\n",
        "# training loop\n",
        "for i in range(10000):\n",
        "  # in your training loop:\n",
        "  # 1. zero the gradient buffers\n",
        "  # 2. compute the output by given the input x\n",
        "  # 3. compute the loss\n",
        "  # 4. computing the gradient \n",
        "  # 5. update the parameter by calling step on the optimizer\n",
        "\n",
        "\n",
        "print(\"loss =\", loss.item())\n",
        "params = list(my_neuron.parameters())\n",
        "plot_soln(x, y, params)"
      ],
      "execution_count": null,
      "outputs": [
        {
          "output_type": "stream",
          "text": [
            "loss = 0.3273821473121643\n",
            "w0 = 4.141496658325195 w1 = 2.4262382984161377 bias = -0.8129551410675049\n"
          ],
          "name": "stdout"
        },
        {
          "output_type": "display_data",
          "data": {
            "image/png": "[encoded data removed]",
            "text/plain": [
              "<Figure size 432x288 with 1 Axes>"
            ]
          },
          "metadata": {
            "tags": [],
            "needs_background": "light"
          }
        }
      ]
    },
    {
      "cell_type": "code",
      "metadata": {
        "id": "sXQQ5Vxjue5D"
      },
      "source": [
        ""
      ],
      "execution_count": null,
      "outputs": []
    }
  ]
}