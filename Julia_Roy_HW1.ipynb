{
  "nbformat": 4,
  "nbformat_minor": 0,
  "metadata": {
    "kernelspec": {
      "display_name": "Python 3",
      "language": "python",
      "name": "python3"
    },
    "language_info": {
      "codemirror_mode": {
        "name": "ipython",
        "version": 3
      },
      "file_extension": ".py",
      "mimetype": "text/x-python",
      "name": "python",
      "nbconvert_exporter": "python",
      "pygments_lexer": "ipython3",
      "version": "3.7.4"
    },
    "colab": {
      "name": "Julia Roy HW1",
      "provenance": [],
      "collapsed_sections": [],
      "include_colab_link": true
    }
  },
  "cells": [
    {
      "cell_type": "markdown",
      "metadata": {
        "id": "view-in-github",
        "colab_type": "text"
      },
      "source": [
        "<a href=\"https://colab.research.google.com/github/jr735/EK210J1WeatherStation/blob/master/Julia_Roy_HW1.ipynb\" target=\"_parent\"><img src=\"https://colab.research.google.com/assets/colab-badge.svg\" alt=\"Open In Colab\"/></a>"
      ]
    },
    {
      "cell_type": "markdown",
      "metadata": {
        "id": "8XcAm-SzNX3v"
      },
      "source": [
        "# Homework 1: Probability Review and Linear Regression\n",
        "by Rachel Manzelli and Natasha Frumkin"
      ]
    },
    {
      "cell_type": "markdown",
      "metadata": {
        "id": "H20K_zkTNX34"
      },
      "source": [
        "## Setup"
      ]
    },
    {
      "cell_type": "markdown",
      "metadata": {
        "id": "3NuqzXzbNX36"
      },
      "source": [
        "To run and solve this assignment, you must have access to a working Jupyter Notebook installation. We recommend Google Colab. If you are already familiar with Jupyter and have your own installation, you may use it; however, you will have to tweak Colab-specific commands we've entered here (for example, file uploads).\n",
        "\n",
        "To use Google Colab:\n",
        "\n",
        "1. Download this `ipynb` file.\n",
        "2. Navigate to https://colab.research.google.com/ and select `Upload` in the pop-up window.\n",
        "3. Upload this file. It will then open in Colab.\n",
        "4. Now, upload the dataset associated with this assignment to the Colab runtime. On the left side of the screen, click on \"Files\" (denoted by a **folder icon**) and then click on \"Upload to session storage\" (denoted by a **file icon with an up arrow**). Select the dataset (`rockstrength.csv`).\n",
        "\n",
        "The below statements assume that you have already followed these instructions. If you need help with Python syntax, NumPy, or Matplotlib, you might find Week 1 discussion material useful.\n",
        "\n",
        "To run code in a cell or to render Markdown+LaTeX press Ctrl+Enter or \"`Run`\" button above. To edit any code or text cell, double-click on its content. Put your solution into boxes marked with **`[double click here to add a solution]`** and press Ctrl+Enter to render text. You can add cells via `+` sign at the top left corner.\n",
        "\n",
        "**Submission instructions**: please upload your completed solution file as well as a scan of any handwritten answers to Gradescope by the due date (see Schedule)."
      ]
    },
    {
      "cell_type": "markdown",
      "metadata": {
        "id": "W2GZkjzhNX37"
      },
      "source": [
        "## Probability Review"
      ]
    },
    {
      "cell_type": "markdown",
      "metadata": {
        "id": "SqLIQlphNX38"
      },
      "source": [
        "### 1. Conditional Distributions"
      ]
    },
    {
      "cell_type": "markdown",
      "metadata": {
        "id": "FYHezPQeNX39"
      },
      "source": [
        "Sarah sells earrings in 3 different styles, `flower`, `star`, and `circle`. She sells them in set sizes of 1 or 2, depending on how many ears the customer has pierced. They are pre-packaged (e.g. she cannot separate one set of 2 earrings into two sets of 1 earring). She has different amounts of each style and set size, and wants to better understand the underlying distribution of her inventory.\n",
        "\n",
        "Given the following joint probability distribution table for her two random variables $A$ (style; possible values `flower`, `star`, and `circle`) and $B$ (set size; possible values $1$ and $2$): \n",
        "\n",
        "|               |               |       |  $A$   |   |\n",
        "| -- |--| -----| -----|----- |\n",
        "|               |                        |  $flower$    | $star$     |  $circle$    |\n",
        "| **$B$**      | $1$      |   $0.16$ |   $?$ |    $0.08$ |\n",
        "|  | $2$      |    $0.37$ |    $0.06$ |    $0.21$ |\n",
        "\n",
        "\n",
        "**a.** What is the value of the missing entry (marked with '$?$')?\n",
        "\n",
        "**b.** What is $p(B = 1 | A = flower)$?\n",
        "\n",
        "**c.** What is $p(B = 2)$?\n",
        "\n",
        "**d.** What is $p(A = circle | B = 2)$?"
      ]
    },
    {
      "cell_type": "markdown",
      "metadata": {
        "id": "inlEe_XZN-ws"
      },
      "source": [
        ""
      ]
    },
    {
      "cell_type": "code",
      "metadata": {
        "colab": {
          "base_uri": "https://localhost:8080/"
        },
        "id": "w8lg0M4JOAG5",
        "outputId": "021f823d-37ed-4b70-e1ff-64bd02c0792b"
      },
      "source": [
        "#part a\r\n",
        "val=1-(0.16+0.08+0.37+0.06+0.21);\r\n",
        "print(val)\r\n",
        "#part b\r\n",
        "p_b=0.16/(0.16+0.37)\r\n",
        "print(p_b)\r\n",
        "#part c\r\n",
        "p_c=0.37+0.06+0.21\r\n",
        "print(p_c)\r\n",
        "#part d\r\n",
        "p_d=0.21/0.64\r\n",
        "print(p_d)\r\n"
      ],
      "execution_count": null,
      "outputs": [
        {
          "output_type": "stream",
          "text": [
            "0.1200000000000001\n",
            "0.3018867924528302\n",
            "0.64\n",
            "0.328125\n"
          ],
          "name": "stdout"
        }
      ]
    },
    {
      "cell_type": "markdown",
      "metadata": {
        "id": "z7CyHkdbO-kh"
      },
      "source": [
        "See the above code for work\r\n",
        "a. 0.12\r\n",
        "\r\n",
        "b. 0.3019\r\n",
        "\r\n",
        "c. 0.64\r\n",
        "\r\n",
        "d. 0.328125"
      ]
    },
    {
      "cell_type": "markdown",
      "metadata": {
        "id": "xoFRT4kzNX3-"
      },
      "source": [
        "### 2. Expectation and Covariance"
      ]
    },
    {
      "cell_type": "markdown",
      "metadata": {
        "id": "dGBbPyfzNX3_"
      },
      "source": [
        "We are given $X \\sim N(\\mu,\\sigma^2)$ and $Y \\sim Poisson(\\lambda)$ sampled IID from known distributions. We define: \n",
        "\n",
        "$$A = 2X+Y$$\n",
        "\n",
        "$$B = X-2Y$$\n",
        "\n",
        "**a.** What is $E[A]$ and $E[B]$?\n",
        "\n",
        "**b.** What is $var(A)$ and $var(B)$? Helpful identity: $E[Y^2] = \\lambda^2 + \\lambda$\n",
        "\n",
        "**c.** What is covariance and what is correlation? Explain in your own words.\n",
        "\n",
        "**d.** What is the covariance of $A$ and $B$?\n",
        "\n",
        "**e.** Define independence of two random variables. Are $A$ and $B$ independent? Explain."
      ]
    },
    {
      "cell_type": "markdown",
      "metadata": {
        "id": "v3AbU0obNX4A"
      },
      "source": [
        "a. **E[A]= 2$\\mu$ + $\\lambda$; E[B]= $\\mu$ -2$\\lambda$**\r\n",
        "\r\n",
        "b. $$var(A)= 2^2*var(X)+var(Y)= 4\\sigma^2+\\lambda$$;\r\n",
        " $$var(B)=var(X)-2^2*var(Y)=\\sigma^2-4\\lambda$$\r\n",
        "\r\n",
        " c. Covariance is an unscaled measure of how much two or more random variables in a joint distribution vary with one another. Correlation is just covariance normalized on a scale from -1 to 1, where -1 means they vary directly with one another but in opposite direction (i.e. like x and y in the equation y=-x) and 1 means they vary directly (i.e. y=x). Note that independence implies covariance/correlation=0 but not the other way around.\r\n",
        "\r\n",
        " d.Cov(aX + bY, cX + dY) = acVar(X,Y)+(ad+bc)Cov(X,Y)+bdVar(Y) so then **Cov(A,B)=2Var(X)-3Cov(X,Y)-2Var(Y)=$$2\\sigma^2-0-2\\lambda=2(\\sigma^2+\\lambda)$$**\r\n",
        "\r\n",
        " e. If two RVs are independent, that means that the probability distribution of each RV does not change with/in response to a change in the probability of the other RV. In other words, trials of one variable don't affect the other. **A and B are NOT independent** because their covariance is nonzero and thus they are linearly dependent. "
      ]
    },
    {
      "cell_type": "markdown",
      "metadata": {
        "id": "rk5YLBofNX4A"
      },
      "source": [
        "### 3. Closed-Form Maximum Likelihood"
      ]
    },
    {
      "cell_type": "markdown",
      "metadata": {
        "id": "8iPDy33aNX4B"
      },
      "source": [
        "Assume that we are given $n$ IID samples $(x_1,...,x_n)$ from each $P(X | \\theta)$ given below. Compute the maximum likelihood estimates (MLEs) for the parameter $\\theta$ of the given distributions. **Show your work, and explain your steps.**\n",
        "\n",
        "**a.** $P(X | \\theta) = Exp(\\theta) = \\theta e^{-\\theta x}, x \\geq 0$\n",
        "\n",
        "**b.** $P(X | \\theta) = Uniform(0, \\theta) = \\frac{1}{\\theta}, 0 < x < \\theta$ (*Hint*: drawing the distribution may help you.)\n",
        "\n",
        "**c.** $P(X | \\theta) = \\frac{2x}{\\theta^2} e ^{\\frac{-x^2}{\\theta^2}}, x \\geq 0$\n",
        "\n",
        "**d.** Suppose $P(\\theta)$ is $Uniform(a, b)$. What is the MAP estimate for the distribution in part **a**?"
      ]
    },
    {
      "cell_type": "markdown",
      "metadata": {
        "id": "uf8i8FG3NX4C"
      },
      "source": [
        "a. The ML estimate of P(X|theta) is the value of theta that maximizes the PDF for the likelihood function of P(X|theta), which is the product of all evaluations of the distribution at x_i through x_n itself. \r\n",
        "\r\n",
        "Likelihood rule is then: $$\\theta^ne^{-\\theta*\\Sigma_{i=1}^{n} x_{i}} $$\r\n",
        "Take the natural log: $$\\ln(\\theta^ne^{-\\theta*\\Sigma_{i=1}^{n} x_{i}}) $$\r\n",
        "Take derivative and set to zero: $$\\frac{n}{\\theta}-\\Sigma_{i=1}^{n} x_{i}=0 $$\r\n",
        "The ML estimate of $\\theta$ is thus:\r\n",
        "$$\\theta=\\frac{n}{\\Sigma_{i=1}^{n} x_{i}}$$\r\n",
        "\r\n",
        "\r\n",
        "b. Likelihood is $$\\prod_{i=1}^n \\frac{1}{\\theta}=\\theta^{-n}$$\r\n",
        "Take the natural log: $$\\ln(\\theta^{-n})=-n\\ln\\theta$$\r\n",
        "Take the derivative and set it equal to zero: $$-\\frac{n}{\\theta}=0 $$\r\n",
        "**Houston, we have a problem!** JK, I saw the hint in the problem statement. Since the likelihood function is monotonically decreasing from i=1 to i=n, it is maximized at x=1, i.e. at $$\\theta$$\r\n",
        "\r\n",
        "c. Likelihood is $$\\prod_{i=1}^n \\frac{2x}{\\theta^2}e^{\\frac{-x^2}{\\theta^2}}$$\r\n",
        "and then the log-likelihood rule is actually a sum: $$\\Sigma_{i=1}^{n} \\ln(2x)-2\\ln(\\theta)-\\frac{x^2}{\\theta^2}=n\\ln(2x)-2n\\ln(\\theta)-\\frac{1}{\\theta^2}\\Sigma_{i=1}^{n} x_{i}^2$$\r\n",
        "Take derivative and set to zero: $$-\\frac{2n}{\\theta}+\\frac{1}{\\theta^3}=0$$\r\n",
        "Solve for theta: $$\\theta=\\sqrt{\\frac{1}{2n}}$$\r\n",
        "\r\n",
        "d. Unlike the MLE, the MAP estimator has a regularization term and seeks to find the value of theta that maximizes not $$P(X|\\theta)$$ but rather to  maximize $$P(\\theta|X)$$In words, this means that you are trying to estimate a parameter given the sample rather than what the sample will be given the parameter. Using Bayes Rule, you can manipulate the flipped probability distribution to make it in terms of the original: $$P(\\theta|X)=\\frac{P(X|\\theta)P(\\theta)}{P(X)}$$ To maximize this, you can ignore P(X) since it is constant relative to theta so what you need is actually $$argmax_{\\theta}  P(X|\\theta)P(\\theta)$$ If the prior is a uniform distribution on (a,b) that means $P(\\theta)$ is $\\frac{1}{b-a}$ and we have $$\\theta*e^{-\\theta*x}\\frac{1}{b-a}$$ The likelihood rule for this new distribution is $$\\frac{1}{b-a}\\theta^ne^{-\\theta*\\Sigma_{i=1}^{n} x_{i}}$$\r\n",
        "Take the natural log: $$\\ln(\\frac{1}{b-a}\\theta^ne^{-\\theta*\\Sigma_{i=1}^{n} x_{i}})$$\r\n",
        "Take derivative and set equal to zero: $$\\frac{n}{\\theta}-\\Sigma_{i=1}^{n} x_{i}=0 $$\r\n",
        "The MAP estimate of $\\theta$ is thus:\r\n",
        "$$\\theta=\\frac{n}{\\Sigma_{i=1}^{n} x_{i}}$$\r\n",
        "**Note that the reason the MLE and MAP estimates were the same in parts a and d because the prior was a PDF that had no dependence on theta. As as result, taking the derivative of the log likelihood function caused the constant prior term to go away and you ended up with the same answer.**"
      ]
    },
    {
      "cell_type": "markdown",
      "metadata": {
        "id": "VXvrq5moNX4C"
      },
      "source": [
        "## ML Basics with Python\n",
        "The following section will walk you through performing basic ML operations with Python, including loading, splitting, and observing a dataset using `pandas`, `sklearn`, and `matplotlib`, as well as running linear regression over features of a dataset using `sklearn`'s built-in methods."
      ]
    },
    {
      "cell_type": "markdown",
      "metadata": {
        "id": "MIrXKq9oNX4D"
      },
      "source": [
        "### 4. Data Visualization with `pandas` and `matplotlib`"
      ]
    },
    {
      "cell_type": "markdown",
      "metadata": {
        "id": "EEg41MUzNX4D"
      },
      "source": [
        "In the following set of problems, we'll look at how we can use different features of rock specimens to model Uniaxial Compressive Strength (UCS), the maximum axial compressive stress that a right-cylindrical sample of material can withstand before failing."
      ]
    },
    {
      "cell_type": "markdown",
      "metadata": {
        "id": "gpULR5BENX4E"
      },
      "source": [
        "Features of this dataset:\n",
        "- % Quartz (`quartz`)\n",
        "- % Plagaoclase (`plag`)\n",
        "- % K.feldspar (`kfds`)\n",
        "- % Hornblende (`hb`)\n",
        "- Grain size (mm) (`gs`)\n",
        "- Grain area (mm^2) (`ga`)\n",
        "- Shape Factor (`sf`)\n",
        "- Aspect Ratio (`ar`)\n",
        "- Uniaxial Compressive Strength (`UCS`)"
      ]
    },
    {
      "cell_type": "markdown",
      "metadata": {
        "id": "-ymuf52uNX4E"
      },
      "source": [
        "#### Load the dataset and look at the features\n",
        "First, we'll use `pandas` to load the dataset and look at some samples of rock specimens and their properties."
      ]
    },
    {
      "cell_type": "code",
      "metadata": {
        "id": "dEt1NlLyNX4F",
        "colab": {
          "base_uri": "https://localhost:8080/",
          "height": 979
        },
        "outputId": "2f08d1d6-11b2-499e-8ad8-8a6c75ba5ab7"
      },
      "source": [
        "import pandas as pd\n",
        "rock_strength = pd.read_csv(\"rockstrength.csv\")\n",
        "rock_strength.head(30)\n"
      ],
      "execution_count": 2,
      "outputs": [
        {
          "output_type": "execute_result",
          "data": {
            "text/html": [
              "<div>\n",
              "<style scoped>\n",
              "    .dataframe tbody tr th:only-of-type {\n",
              "        vertical-align: middle;\n",
              "    }\n",
              "\n",
              "    .dataframe tbody tr th {\n",
              "        vertical-align: top;\n",
              "    }\n",
              "\n",
              "    .dataframe thead th {\n",
              "        text-align: right;\n",
              "    }\n",
              "</style>\n",
              "<table border=\"1\" class=\"dataframe\">\n",
              "  <thead>\n",
              "    <tr style=\"text-align: right;\">\n",
              "      <th></th>\n",
              "      <th>sample_id</th>\n",
              "      <th>UCS</th>\n",
              "      <th>quartz</th>\n",
              "      <th>plag</th>\n",
              "      <th>kfds</th>\n",
              "      <th>hb</th>\n",
              "      <th>gs</th>\n",
              "      <th>ga</th>\n",
              "      <th>sf</th>\n",
              "      <th>ar</th>\n",
              "    </tr>\n",
              "  </thead>\n",
              "  <tbody>\n",
              "    <tr>\n",
              "      <th>0</th>\n",
              "      <td>1</td>\n",
              "      <td>100.6</td>\n",
              "      <td>40.3</td>\n",
              "      <td>9.98</td>\n",
              "      <td>17.01</td>\n",
              "      <td>21.57</td>\n",
              "      <td>0.031</td>\n",
              "      <td>754.4</td>\n",
              "      <td>0.594</td>\n",
              "      <td>0.630</td>\n",
              "    </tr>\n",
              "    <tr>\n",
              "      <th>1</th>\n",
              "      <td>2</td>\n",
              "      <td>112.0</td>\n",
              "      <td>47.1</td>\n",
              "      <td>8.50</td>\n",
              "      <td>15.00</td>\n",
              "      <td>23.00</td>\n",
              "      <td>0.025</td>\n",
              "      <td>490.6</td>\n",
              "      <td>0.612</td>\n",
              "      <td>0.612</td>\n",
              "    </tr>\n",
              "    <tr>\n",
              "      <th>2</th>\n",
              "      <td>3</td>\n",
              "      <td>117.5</td>\n",
              "      <td>45.4</td>\n",
              "      <td>9.10</td>\n",
              "      <td>16.20</td>\n",
              "      <td>24.00</td>\n",
              "      <td>0.022</td>\n",
              "      <td>379.9</td>\n",
              "      <td>0.628</td>\n",
              "      <td>0.628</td>\n",
              "    </tr>\n",
              "    <tr>\n",
              "      <th>3</th>\n",
              "      <td>4</td>\n",
              "      <td>100.9</td>\n",
              "      <td>41.3</td>\n",
              "      <td>7.72</td>\n",
              "      <td>11.02</td>\n",
              "      <td>18.86</td>\n",
              "      <td>0.044</td>\n",
              "      <td>1519.8</td>\n",
              "      <td>0.571</td>\n",
              "      <td>0.667</td>\n",
              "    </tr>\n",
              "    <tr>\n",
              "      <th>4</th>\n",
              "      <td>5</td>\n",
              "      <td>94.5</td>\n",
              "      <td>33.8</td>\n",
              "      <td>4.10</td>\n",
              "      <td>14.00</td>\n",
              "      <td>16.00</td>\n",
              "      <td>0.043</td>\n",
              "      <td>1451.5</td>\n",
              "      <td>0.575</td>\n",
              "      <td>0.662</td>\n",
              "    </tr>\n",
              "    <tr>\n",
              "      <th>5</th>\n",
              "      <td>6</td>\n",
              "      <td>91.5</td>\n",
              "      <td>37.2</td>\n",
              "      <td>7.40</td>\n",
              "      <td>12.00</td>\n",
              "      <td>13.00</td>\n",
              "      <td>0.046</td>\n",
              "      <td>1661.1</td>\n",
              "      <td>0.499</td>\n",
              "      <td>0.663</td>\n",
              "    </tr>\n",
              "    <tr>\n",
              "      <th>6</th>\n",
              "      <td>7</td>\n",
              "      <td>97.5</td>\n",
              "      <td>40.0</td>\n",
              "      <td>5.44</td>\n",
              "      <td>11.21</td>\n",
              "      <td>10.52</td>\n",
              "      <td>0.035</td>\n",
              "      <td>961.6</td>\n",
              "      <td>0.606</td>\n",
              "      <td>0.685</td>\n",
              "    </tr>\n",
              "    <tr>\n",
              "      <th>7</th>\n",
              "      <td>8</td>\n",
              "      <td>100.0</td>\n",
              "      <td>39.1</td>\n",
              "      <td>5.10</td>\n",
              "      <td>10.90</td>\n",
              "      <td>8.50</td>\n",
              "      <td>0.032</td>\n",
              "      <td>803.8</td>\n",
              "      <td>0.585</td>\n",
              "      <td>0.683</td>\n",
              "    </tr>\n",
              "    <tr>\n",
              "      <th>8</th>\n",
              "      <td>9</td>\n",
              "      <td>108.5</td>\n",
              "      <td>44.2</td>\n",
              "      <td>5.00</td>\n",
              "      <td>12.00</td>\n",
              "      <td>14.80</td>\n",
              "      <td>0.032</td>\n",
              "      <td>803.8</td>\n",
              "      <td>0.615</td>\n",
              "      <td>0.680</td>\n",
              "    </tr>\n",
              "    <tr>\n",
              "      <th>9</th>\n",
              "      <td>10</td>\n",
              "      <td>87.0</td>\n",
              "      <td>35.1</td>\n",
              "      <td>5.51</td>\n",
              "      <td>13.41</td>\n",
              "      <td>14.87</td>\n",
              "      <td>0.056</td>\n",
              "      <td>2462.0</td>\n",
              "      <td>0.572</td>\n",
              "      <td>0.639</td>\n",
              "    </tr>\n",
              "    <tr>\n",
              "      <th>10</th>\n",
              "      <td>11</td>\n",
              "      <td>78.0</td>\n",
              "      <td>26.6</td>\n",
              "      <td>8.00</td>\n",
              "      <td>14.00</td>\n",
              "      <td>10.50</td>\n",
              "      <td>0.054</td>\n",
              "      <td>2289.1</td>\n",
              "      <td>0.549</td>\n",
              "      <td>0.636</td>\n",
              "    </tr>\n",
              "    <tr>\n",
              "      <th>11</th>\n",
              "      <td>12</td>\n",
              "      <td>92.9</td>\n",
              "      <td>29.7</td>\n",
              "      <td>6.80</td>\n",
              "      <td>11.00</td>\n",
              "      <td>13.00</td>\n",
              "      <td>0.052</td>\n",
              "      <td>2122.6</td>\n",
              "      <td>0.604</td>\n",
              "      <td>0.680</td>\n",
              "    </tr>\n",
              "    <tr>\n",
              "      <th>12</th>\n",
              "      <td>13</td>\n",
              "      <td>111.7</td>\n",
              "      <td>37.0</td>\n",
              "      <td>7.52</td>\n",
              "      <td>15.60</td>\n",
              "      <td>30.96</td>\n",
              "      <td>0.021</td>\n",
              "      <td>346.2</td>\n",
              "      <td>0.652</td>\n",
              "      <td>0.673</td>\n",
              "    </tr>\n",
              "    <tr>\n",
              "      <th>13</th>\n",
              "      <td>14</td>\n",
              "      <td>114.0</td>\n",
              "      <td>33.2</td>\n",
              "      <td>6.60</td>\n",
              "      <td>13.00</td>\n",
              "      <td>25.00</td>\n",
              "      <td>0.020</td>\n",
              "      <td>314.0</td>\n",
              "      <td>0.652</td>\n",
              "      <td>0.671</td>\n",
              "    </tr>\n",
              "    <tr>\n",
              "      <th>14</th>\n",
              "      <td>15</td>\n",
              "      <td>104.5</td>\n",
              "      <td>39.2</td>\n",
              "      <td>5.20</td>\n",
              "      <td>14.70</td>\n",
              "      <td>27.30</td>\n",
              "      <td>0.018</td>\n",
              "      <td>254.3</td>\n",
              "      <td>0.663</td>\n",
              "      <td>0.670</td>\n",
              "    </tr>\n",
              "    <tr>\n",
              "      <th>15</th>\n",
              "      <td>16</td>\n",
              "      <td>118.0</td>\n",
              "      <td>37.1</td>\n",
              "      <td>7.19</td>\n",
              "      <td>15.69</td>\n",
              "      <td>25.58</td>\n",
              "      <td>0.017</td>\n",
              "      <td>226.9</td>\n",
              "      <td>0.651</td>\n",
              "      <td>0.675</td>\n",
              "    </tr>\n",
              "    <tr>\n",
              "      <th>16</th>\n",
              "      <td>17</td>\n",
              "      <td>116.5</td>\n",
              "      <td>39.5</td>\n",
              "      <td>5.80</td>\n",
              "      <td>16.00</td>\n",
              "      <td>20.50</td>\n",
              "      <td>0.019</td>\n",
              "      <td>283.4</td>\n",
              "      <td>0.650</td>\n",
              "      <td>0.678</td>\n",
              "    </tr>\n",
              "    <tr>\n",
              "      <th>17</th>\n",
              "      <td>18</td>\n",
              "      <td>115.0</td>\n",
              "      <td>40.8</td>\n",
              "      <td>6.90</td>\n",
              "      <td>15.10</td>\n",
              "      <td>26.00</td>\n",
              "      <td>0.022</td>\n",
              "      <td>379.9</td>\n",
              "      <td>0.570</td>\n",
              "      <td>0.669</td>\n",
              "    </tr>\n",
              "    <tr>\n",
              "      <th>18</th>\n",
              "      <td>19</td>\n",
              "      <td>103.9</td>\n",
              "      <td>39.0</td>\n",
              "      <td>4.23</td>\n",
              "      <td>9.29</td>\n",
              "      <td>12.00</td>\n",
              "      <td>0.038</td>\n",
              "      <td>1133.5</td>\n",
              "      <td>0.635</td>\n",
              "      <td>0.681</td>\n",
              "    </tr>\n",
              "    <tr>\n",
              "      <th>19</th>\n",
              "      <td>20</td>\n",
              "      <td>110.2</td>\n",
              "      <td>43.7</td>\n",
              "      <td>6.50</td>\n",
              "      <td>8.70</td>\n",
              "      <td>15.00</td>\n",
              "      <td>0.032</td>\n",
              "      <td>1163.8</td>\n",
              "      <td>0.652</td>\n",
              "      <td>0.680</td>\n",
              "    </tr>\n",
              "    <tr>\n",
              "      <th>20</th>\n",
              "      <td>21</td>\n",
              "      <td>100.2</td>\n",
              "      <td>35.4</td>\n",
              "      <td>5.20</td>\n",
              "      <td>9.60</td>\n",
              "      <td>9.50</td>\n",
              "      <td>0.039</td>\n",
              "      <td>1193.9</td>\n",
              "      <td>0.635</td>\n",
              "      <td>0.675</td>\n",
              "    </tr>\n",
              "    <tr>\n",
              "      <th>21</th>\n",
              "      <td>22</td>\n",
              "      <td>105.0</td>\n",
              "      <td>46.8</td>\n",
              "      <td>8.18</td>\n",
              "      <td>10.11</td>\n",
              "      <td>12.81</td>\n",
              "      <td>0.043</td>\n",
              "      <td>1451.5</td>\n",
              "      <td>0.603</td>\n",
              "      <td>0.670</td>\n",
              "    </tr>\n",
              "    <tr>\n",
              "      <th>22</th>\n",
              "      <td>23</td>\n",
              "      <td>110.0</td>\n",
              "      <td>42.9</td>\n",
              "      <td>10.20</td>\n",
              "      <td>11.00</td>\n",
              "      <td>19.50</td>\n",
              "      <td>0.038</td>\n",
              "      <td>1133.5</td>\n",
              "      <td>0.622</td>\n",
              "      <td>0.674</td>\n",
              "    </tr>\n",
              "    <tr>\n",
              "      <th>23</th>\n",
              "      <td>24</td>\n",
              "      <td>110.0</td>\n",
              "      <td>45.7</td>\n",
              "      <td>13.00</td>\n",
              "      <td>11.30</td>\n",
              "      <td>17.00</td>\n",
              "      <td>0.036</td>\n",
              "      <td>1017.3</td>\n",
              "      <td>0.649</td>\n",
              "      <td>0.670</td>\n",
              "    </tr>\n",
              "    <tr>\n",
              "      <th>24</th>\n",
              "      <td>25</td>\n",
              "      <td>101.0</td>\n",
              "      <td>42.0</td>\n",
              "      <td>12.50</td>\n",
              "      <td>10.00</td>\n",
              "      <td>3.89</td>\n",
              "      <td>0.039</td>\n",
              "      <td>1194.0</td>\n",
              "      <td>0.603</td>\n",
              "      <td>0.636</td>\n",
              "    </tr>\n",
              "    <tr>\n",
              "      <th>25</th>\n",
              "      <td>26</td>\n",
              "      <td>94.4</td>\n",
              "      <td>37.1</td>\n",
              "      <td>11.00</td>\n",
              "      <td>11.20</td>\n",
              "      <td>6.30</td>\n",
              "      <td>0.038</td>\n",
              "      <td>1133.5</td>\n",
              "      <td>0.602</td>\n",
              "      <td>0.636</td>\n",
              "    </tr>\n",
              "    <tr>\n",
              "      <th>26</th>\n",
              "      <td>27</td>\n",
              "      <td>118.0</td>\n",
              "      <td>38.1</td>\n",
              "      <td>9.88</td>\n",
              "      <td>14.00</td>\n",
              "      <td>27.00</td>\n",
              "      <td>0.025</td>\n",
              "      <td>490.6</td>\n",
              "      <td>0.698</td>\n",
              "      <td>0.621</td>\n",
              "    </tr>\n",
              "    <tr>\n",
              "      <th>27</th>\n",
              "      <td>28</td>\n",
              "      <td>119.0</td>\n",
              "      <td>40.6</td>\n",
              "      <td>12.00</td>\n",
              "      <td>10.00</td>\n",
              "      <td>25.50</td>\n",
              "      <td>0.021</td>\n",
              "      <td>346.2</td>\n",
              "      <td>0.670</td>\n",
              "      <td>0.621</td>\n",
              "    </tr>\n",
              "    <tr>\n",
              "      <th>28</th>\n",
              "      <td>29</td>\n",
              "      <td>112.0</td>\n",
              "      <td>53.0</td>\n",
              "      <td>11.50</td>\n",
              "      <td>11.30</td>\n",
              "      <td>23.30</td>\n",
              "      <td>0.029</td>\n",
              "      <td>660.2</td>\n",
              "      <td>0.630</td>\n",
              "      <td>0.623</td>\n",
              "    </tr>\n",
              "    <tr>\n",
              "      <th>29</th>\n",
              "      <td>30</td>\n",
              "      <td>123.0</td>\n",
              "      <td>38.9</td>\n",
              "      <td>12.80</td>\n",
              "      <td>16.50</td>\n",
              "      <td>24.30</td>\n",
              "      <td>0.024</td>\n",
              "      <td>452.2</td>\n",
              "      <td>0.680</td>\n",
              "      <td>0.620</td>\n",
              "    </tr>\n",
              "  </tbody>\n",
              "</table>\n",
              "</div>"
            ],
            "text/plain": [
              "    sample_id    UCS  quartz   plag   kfds     hb     gs      ga     sf     ar\n",
              "0           1  100.6    40.3   9.98  17.01  21.57  0.031   754.4  0.594  0.630\n",
              "1           2  112.0    47.1   8.50  15.00  23.00  0.025   490.6  0.612  0.612\n",
              "2           3  117.5    45.4   9.10  16.20  24.00  0.022   379.9  0.628  0.628\n",
              "3           4  100.9    41.3   7.72  11.02  18.86  0.044  1519.8  0.571  0.667\n",
              "4           5   94.5    33.8   4.10  14.00  16.00  0.043  1451.5  0.575  0.662\n",
              "5           6   91.5    37.2   7.40  12.00  13.00  0.046  1661.1  0.499  0.663\n",
              "6           7   97.5    40.0   5.44  11.21  10.52  0.035   961.6  0.606  0.685\n",
              "7           8  100.0    39.1   5.10  10.90   8.50  0.032   803.8  0.585  0.683\n",
              "8           9  108.5    44.2   5.00  12.00  14.80  0.032   803.8  0.615  0.680\n",
              "9          10   87.0    35.1   5.51  13.41  14.87  0.056  2462.0  0.572  0.639\n",
              "10         11   78.0    26.6   8.00  14.00  10.50  0.054  2289.1  0.549  0.636\n",
              "11         12   92.9    29.7   6.80  11.00  13.00  0.052  2122.6  0.604  0.680\n",
              "12         13  111.7    37.0   7.52  15.60  30.96  0.021   346.2  0.652  0.673\n",
              "13         14  114.0    33.2   6.60  13.00  25.00  0.020   314.0  0.652  0.671\n",
              "14         15  104.5    39.2   5.20  14.70  27.30  0.018   254.3  0.663  0.670\n",
              "15         16  118.0    37.1   7.19  15.69  25.58  0.017   226.9  0.651  0.675\n",
              "16         17  116.5    39.5   5.80  16.00  20.50  0.019   283.4  0.650  0.678\n",
              "17         18  115.0    40.8   6.90  15.10  26.00  0.022   379.9  0.570  0.669\n",
              "18         19  103.9    39.0   4.23   9.29  12.00  0.038  1133.5  0.635  0.681\n",
              "19         20  110.2    43.7   6.50   8.70  15.00  0.032  1163.8  0.652  0.680\n",
              "20         21  100.2    35.4   5.20   9.60   9.50  0.039  1193.9  0.635  0.675\n",
              "21         22  105.0    46.8   8.18  10.11  12.81  0.043  1451.5  0.603  0.670\n",
              "22         23  110.0    42.9  10.20  11.00  19.50  0.038  1133.5  0.622  0.674\n",
              "23         24  110.0    45.7  13.00  11.30  17.00  0.036  1017.3  0.649  0.670\n",
              "24         25  101.0    42.0  12.50  10.00   3.89  0.039  1194.0  0.603  0.636\n",
              "25         26   94.4    37.1  11.00  11.20   6.30  0.038  1133.5  0.602  0.636\n",
              "26         27  118.0    38.1   9.88  14.00  27.00  0.025   490.6  0.698  0.621\n",
              "27         28  119.0    40.6  12.00  10.00  25.50  0.021   346.2  0.670  0.621\n",
              "28         29  112.0    53.0  11.50  11.30  23.30  0.029   660.2  0.630  0.623\n",
              "29         30  123.0    38.9  12.80  16.50  24.30  0.024   452.2  0.680  0.620"
            ]
          },
          "metadata": {
            "tags": []
          },
          "execution_count": 2
        }
      ]
    },
    {
      "cell_type": "markdown",
      "metadata": {
        "id": "qFU3cD5BNX4H"
      },
      "source": [
        "#### 4.a. Visualize the features against the variable we'd like to be able to model (`UCS`)\n",
        "We're going to model `UCS` using a linear regression model. To do that, we'd like to visualize the data and choose features that are well-suited for a linear model. Use `matplotlib` to plot each feature in the `rock_features` list below against the target, `UCS`."
      ]
    },
    {
      "cell_type": "code",
      "metadata": {
        "id": "hRRv9fM4NX4H",
        "colab": {
          "base_uri": "https://localhost:8080/",
          "height": 426
        },
        "outputId": "73c636de-e988-4001-a7bc-5c1fba867e97"
      },
      "source": [
        "import matplotlib.pyplot as plt\n",
        "rock_features = ['quartz', 'plag', 'kfds', 'hb', 'gs', 'ga', 'sf', 'ar']\n",
        "target = rock_strength['UCS']\n",
        "\n",
        "# Create a figure to hold our plots\n",
        "plt.figure(figsize=(28, 7))\n",
        "for i, feature in enumerate(rock_features):\n",
        "    # Create subplots for each feature within this figure\n",
        "    plt.subplot(1, len(rock_features) , i+1)\n",
        "    ### ADD CODE HERE:\n",
        "    x=rock_strength[feature]\n",
        "    y=target\n",
        "    ###\n",
        "    plt.scatter(x, y, marker='o')\n",
        "    plt.title(feature)  \n",
        "    plt.xlabel(feature)\n",
        "    plt.ylabel('UCS')"
      ],
      "execution_count": 9,
      "outputs": [
        {
          "output_type": "display_data",
          "data": {
            "image/png": "[encoded data removed]",
            "text/plain": [
              "<Figure size 2016x504 with 8 Axes>"
            ]
          },
          "metadata": {
            "tags": [],
            "needs_background": "light"
          }
        }
      ]
    },
    {
      "cell_type": "markdown",
      "metadata": {
        "id": "4JNUTJztNX4J"
      },
      "source": [
        "#### 4.b. Select the best feature for a linear regression model\n",
        "Which feature looks like it would work well for fitting a linear regression model? Pick just one, and assign it to the variable called `rock_strength_features`. *There is more than one correct answer.*"
      ]
    },
    {
      "cell_type": "code",
      "metadata": {
        "id": "9Y8cNakyNX4J"
      },
      "source": [
        "### ADD CODE HERE: \n",
        "### Set `rock_strength_features` (A feature to use to fit our linear regression model)\n",
        "rock_strength_features=rock_strength['sf']\n",
        "rock_strength_labels = rock_strength['UCS']"
      ],
      "execution_count": 3,
      "outputs": []
    },
    {
      "cell_type": "markdown",
      "metadata": {
        "id": "2TTfHHuNNX4K"
      },
      "source": [
        "***Briefly explain your rationale for choosing this feature in the cell below.***"
      ]
    },
    {
      "cell_type": "markdown",
      "metadata": {
        "id": "pHDdYtGzNX4K"
      },
      "source": [
        "**I chose shape factor as the feature to use because the plot of UCS v sf looked as though most of the points fell generally in a linear direction, with few points as big outliers.**"
      ]
    },
    {
      "cell_type": "markdown",
      "metadata": {
        "id": "keQTpjv7NX4K"
      },
      "source": [
        "### 5. Train-Test Splits with `sklearn`"
      ]
    },
    {
      "cell_type": "markdown",
      "metadata": {
        "id": "QZCp9tWyNX4L"
      },
      "source": [
        "Train-test splitting is a fundamental practice in machine learning. When fitting a model, we'd to divide our data into separate training and testing sets in order to fairly evaluate how our model performs. We will use `sklearn`'s built-in module called `train_test_split` to split our data."
      ]
    },
    {
      "cell_type": "markdown",
      "metadata": {
        "id": "FbnBpdfSNX4L"
      },
      "source": [
        "#### 5.a. Understanding train-test splits\n",
        "First, use `train_test_split` to split the following random array of samples into training and testing sets. *Refer to the documentation [here](https://scikit-learn.org/stable/modules/generated/sklearn.model_selection.train_test_split.html) to better understand how this method is used.* Observe the sizes of the resulting datasets, and which samples were placed where."
      ]
    },
    {
      "cell_type": "code",
      "metadata": {
        "id": "wH3b1DqxNX4L",
        "colab": {
          "base_uri": "https://localhost:8080/"
        },
        "outputId": "99b12948-9bf4-4ef5-e451-7273de357323"
      },
      "source": [
        "import numpy as np\n",
        "from sklearn.model_selection import train_test_split\n",
        "\n",
        "# Creating a random array of 20 samples with 2 features each (X), and 20 corresponding labels (y)\n",
        "X, y = np.arange(40).reshape((20, 2)), [*range(20)]\n",
        "\n",
        "print(\"X:\")\n",
        "print(X)\n",
        "print(\"Shape of X:\")\n",
        "print(X.shape)\n",
        "\n",
        "print(\"y:\")\n",
        "print(y)\n",
        "print(\"Shape of y:\")\n",
        "print(len(y))"
      ],
      "execution_count": 4,
      "outputs": [
        {
          "output_type": "stream",
          "text": [
            "X:\n",
            "[[ 0  1]\n",
            " [ 2  3]\n",
            " [ 4  5]\n",
            " [ 6  7]\n",
            " [ 8  9]\n",
            " [10 11]\n",
            " [12 13]\n",
            " [14 15]\n",
            " [16 17]\n",
            " [18 19]\n",
            " [20 21]\n",
            " [22 23]\n",
            " [24 25]\n",
            " [26 27]\n",
            " [28 29]\n",
            " [30 31]\n",
            " [32 33]\n",
            " [34 35]\n",
            " [36 37]\n",
            " [38 39]]\n",
            "Shape of X:\n",
            "(20, 2)\n",
            "y:\n",
            "[0, 1, 2, 3, 4, 5, 6, 7, 8, 9, 10, 11, 12, 13, 14, 15, 16, 17, 18, 19]\n",
            "Shape of y:\n",
            "20\n"
          ],
          "name": "stdout"
        }
      ]
    },
    {
      "cell_type": "code",
      "metadata": {
        "id": "OKSfyhIdNX4M",
        "colab": {
          "base_uri": "https://localhost:8080/"
        },
        "outputId": "9591b313-b627-4b26-9458-4db53de641d3"
      },
      "source": [
        "### ADD CODE HERE:\n",
        "### Use train_test_split to split the data into training and testing sets.\n",
        "X_train, X_test, y_train, y_test = train_test_split(X, y, test_size=0.2, random_state=42)\n",
        "\n",
        "### Print out the resulting data splits and their sizes, following how they were printed above.\n",
        "print(\"X_train:\")\n",
        "print(X_train)\n",
        "print(\"Shape of X_train:\")\n",
        "print(X_train.shape)\n",
        "\n",
        "print(\"X_test:\")\n",
        "print(X_test)\n",
        "print(\"Shape of X_test:\")\n",
        "print(X_test.shape)\n",
        "\n",
        "print(\"y_train:\")\n",
        "print(y_train)\n",
        "print(\"Shape of y_train:\")\n",
        "print(len(y_train))\n",
        "\n",
        "print(\"y_test:\")\n",
        "print(y_test)\n",
        "print(\"Shape of y_test:\")\n",
        "print(len(y_test))"
      ],
      "execution_count": 6,
      "outputs": [
        {
          "output_type": "stream",
          "text": [
            "X_train:\n",
            "[[16 17]\n",
            " [10 11]\n",
            " [22 23]\n",
            " [ 6  7]\n",
            " [36 37]\n",
            " [32 33]\n",
            " [26 27]\n",
            " [ 4  5]\n",
            " [18 19]\n",
            " [38 39]\n",
            " [ 8  9]\n",
            " [24 25]\n",
            " [14 15]\n",
            " [20 21]\n",
            " [28 29]\n",
            " [12 13]]\n",
            "Shape of X_train:\n",
            "(16, 2)\n",
            "X_test:\n",
            "[[ 0  1]\n",
            " [34 35]\n",
            " [30 31]\n",
            " [ 2  3]]\n",
            "Shape of X_test:\n",
            "(4, 2)\n",
            "y_train:\n",
            "[8, 5, 11, 3, 18, 16, 13, 2, 9, 19, 4, 12, 7, 10, 14, 6]\n",
            "Shape of y_train:\n",
            "16\n",
            "y_test:\n",
            "[0, 17, 15, 1]\n",
            "Shape of y_test:\n",
            "4\n"
          ],
          "name": "stdout"
        }
      ]
    },
    {
      "cell_type": "markdown",
      "metadata": {
        "id": "XHmQkG4RNX4M"
      },
      "source": [
        "#### 5.b. Splitting our rock data into training and testing sets"
      ]
    },
    {
      "cell_type": "markdown",
      "metadata": {
        "id": "aZHu1nY_NX4N"
      },
      "source": [
        "Use the same process to split our rock features and corresponding targets. Again, observe the sizes and samples of the resulting training and testing sets. (Note that our dataset only has one feature.)"
      ]
    },
    {
      "cell_type": "code",
      "metadata": {
        "id": "iSoinXjKNX4N",
        "colab": {
          "base_uri": "https://localhost:8080/"
        },
        "outputId": "72d8dfdb-2ab2-4a00-bb8d-580032769b19"
      },
      "source": [
        "# Convert our pandas dataframes to numpy arrays\n",
        "rock_strength_features = np.asarray(rock_strength_features).reshape(-1,1)\n",
        "rock_strength_labels = np.asarray(rock_strength_labels).reshape(-1,1)\n",
        "\n",
        "print(\"Shape of rock_strength_features\")\n",
        "print(rock_strength_features.shape)\n",
        "print(\"Shape of rock_strength_labels:\")\n",
        "print(rock_strength_labels.shape)\n",
        "\n",
        "### ADD CODE HERE:\n",
        "### Use train_test_split to split the data into training and testing sets. \n",
        "X_train, X_test, y_train, y_test= train_test_split(rock_strength_features,rock_strength_labels, test_size=0.2, random_state=42)\n",
        "### Print out the resulting data splits and their sizes, following how they were printed above.\n",
        "print(\"X_train:\")\n",
        "print(X_train)\n",
        "print(\"Shape of X_train:\")\n",
        "print(X_train.shape)\n",
        "\n",
        "\n",
        "print(\"X_test:\")\n",
        "print(X_test)\n",
        "print(\"Shape of X_test:\")\n",
        "print(X_test.shape)\n",
        "\n",
        "\n",
        "print(\"y_train:\")\n",
        "print(y_train)\n",
        "print(\"Shape of y_train:\")\n",
        "print(len(y_train))\n",
        "\n",
        "\n",
        "print(\"y_test:\")\n",
        "print(y_test)\n",
        "print(\"Shape of y_test:\")\n",
        "print(len(y_test))"
      ],
      "execution_count": 18,
      "outputs": [
        {
          "output_type": "stream",
          "text": [
            "Shape of rock_strength_features\n",
            "(30, 1)\n",
            "Shape of rock_strength_labels:\n",
            "(30, 1)\n",
            "X_train:\n",
            "[[0.63 ]\n",
            " [0.603]\n",
            " [0.652]\n",
            " [0.594]\n",
            " [0.575]\n",
            " [0.65 ]\n",
            " [0.499]\n",
            " [0.652]\n",
            " [0.604]\n",
            " [0.622]\n",
            " [0.612]\n",
            " [0.628]\n",
            " [0.602]\n",
            " [0.571]\n",
            " [0.603]\n",
            " [0.698]\n",
            " [0.635]\n",
            " [0.68 ]\n",
            " [0.635]\n",
            " [0.585]\n",
            " [0.549]\n",
            " [0.663]\n",
            " [0.652]\n",
            " [0.606]]\n",
            "Shape of X_train:\n",
            "(24, 1)\n",
            "X_test:\n",
            "[[0.67 ]\n",
            " [0.651]\n",
            " [0.649]\n",
            " [0.57 ]\n",
            " [0.615]\n",
            " [0.572]]\n",
            "Shape of X_test:\n",
            "(6, 1)\n",
            "y_train:\n",
            "[[112. ]\n",
            " [101. ]\n",
            " [111.7]\n",
            " [100.6]\n",
            " [ 94.5]\n",
            " [116.5]\n",
            " [ 91.5]\n",
            " [114. ]\n",
            " [ 92.9]\n",
            " [110. ]\n",
            " [112. ]\n",
            " [117.5]\n",
            " [ 94.4]\n",
            " [100.9]\n",
            " [105. ]\n",
            " [118. ]\n",
            " [103.9]\n",
            " [123. ]\n",
            " [100.2]\n",
            " [100. ]\n",
            " [ 78. ]\n",
            " [104.5]\n",
            " [110.2]\n",
            " [ 97.5]]\n",
            "Shape of y_train:\n",
            "24\n",
            "y_test:\n",
            "[[119. ]\n",
            " [118. ]\n",
            " [110. ]\n",
            " [115. ]\n",
            " [108.5]\n",
            " [ 87. ]]\n",
            "Shape of y_test:\n",
            "6\n"
          ],
          "name": "stdout"
        }
      ]
    },
    {
      "cell_type": "markdown",
      "metadata": {
        "id": "oUTa8UcdNX4N"
      },
      "source": [
        "### 6. Linear Regression\n",
        "Now, we'll fit a linear regression model to our data using `sklearn`'s built-in linear regression method. We will also test the model with our test data, and see how it performs."
      ]
    },
    {
      "cell_type": "markdown",
      "metadata": {
        "id": "km7Y_mMWNX4O"
      },
      "source": [
        "#### 6.a. Fit the linear regression model with our rock data\n",
        "Use `sklearn`'s built-in linear regression method to fit a model using the training data you got as a result of problem 6. *Refer to the documentation [here](https://scikit-learn.org/stable/modules/generated/sklearn.linear_model.LinearRegression.html) to better understand how this method is used.*"
      ]
    },
    {
      "cell_type": "code",
      "metadata": {
        "id": "UN6-y-LENX4O"
      },
      "source": [
        "from sklearn.linear_model import LinearRegression\n",
        "\n",
        "### ADD CODE HERE:\n",
        "### Use the LinearRegression() method to fit a model using the training data.\n",
        "model = LinearRegression().fit(X_train, y_train)\n"
      ],
      "execution_count": 19,
      "outputs": []
    },
    {
      "cell_type": "markdown",
      "metadata": {
        "id": "iQsnAZR4NX4O"
      },
      "source": [
        "#### 6.b. Plot the data against the model\n",
        "Use `matplotlib` to visualize the fit of the model alongside the rock feature data. You will need to extract the parameters of the model, the coefficient $w$ and the intercept $b$, to do this."
      ]
    },
    {
      "cell_type": "code",
      "metadata": {
        "id": "fG74iQYiNX4P",
        "colab": {
          "base_uri": "https://localhost:8080/",
          "height": 384
        },
        "outputId": "45aa76b7-220f-4843-8adc-5ca998292e0f"
      },
      "source": [
        "import matplotlib.pyplot as plt\n",
        "### ADD CODE HERE:\n",
        "### Extract the coefficient of the model, w\n",
        "### Extract the intercept of the model, b\n",
        "b=model.intercept_\n",
        "print(\"Intercept is \", b)\n",
        "w=model.coef_\n",
        "print(\"Coefficient is \", w)\n",
        "# Create plot figure\n",
        "plt.figure(figsize=(20, 5))\n",
        "### ADD CODE HERE:\n",
        "plt.plot(X_train, w*X_train+b, 'b')\n",
        "plt.scatter(X_train, y_train)\n",
        "### Use plt.plot() to plot the model curve\n",
        "### Use plt.scatter() to plot the original feature data\n",
        "###\n",
        "plt.title(\"OLS fit\")\n",
        "plt.xlabel(\"Shape Factor (sf)\")\n",
        "plt.ylabel(\"UCS\")\n",
        "plt.show()"
      ],
      "execution_count": 20,
      "outputs": [
        {
          "output_type": "stream",
          "text": [
            "Intercept is  [-11.66084906]\n",
            "Coefficient is  [[188.49056604]]\n"
          ],
          "name": "stdout"
        },
        {
          "output_type": "display_data",
          "data": {
            "image/png": "[encoded data removed]",
            "text/plain": [
              "<Figure size 1440x360 with 1 Axes>"
            ]
          },
          "metadata": {
            "tags": [],
            "needs_background": "light"
          }
        }
      ]
    },
    {
      "cell_type": "markdown",
      "metadata": {
        "id": "PImZTIQvNX4P"
      },
      "source": [
        "#### 6.c. Plot the true UCS values against our estimated values\n",
        "Let's see how well our model performs! Plot the model's estimates of UCS on our test data from problem 5 alongside the real values. Include the model fit as well for clarity."
      ]
    },
    {
      "cell_type": "code",
      "metadata": {
        "id": "AdD32IdvNX4P",
        "colab": {
          "base_uri": "https://localhost:8080/",
          "height": 350
        },
        "outputId": "7462a6b3-d76b-4c89-d28d-007b2f5d2750"
      },
      "source": [
        "import matplotlib.pyplot as plt\n",
        "plt.figure(figsize=(20, 5))\n",
        "### ADD CODE HERE:\n",
        "### Use plt.plot() to plot the model curve\n",
        "plt.plot(X_train, w*X_train+b, 'b')\n",
        "### Use plt.scatter() to plot the test data and corresponding values estimated by our model\n",
        "plt.scatter(X_train, y_train)\n",
        "### Use plt.scatter() to plot the test data and corresponding target values\n",
        "plt.scatter(X_test, y_test, color='orange')\n",
        "plt.title(\"OLS fit\")\n",
        "plt.xlabel(\"Shape Factor (sf)\")\n",
        "plt.ylabel(\"UCS\")\n",
        "plt.show()"
      ],
      "execution_count": 22,
      "outputs": [
        {
          "output_type": "display_data",
          "data": {
            "image/png": "[encoded data removed]",
            "text/plain": [
              "<Figure size 1440x360 with 1 Axes>"
            ]
          },
          "metadata": {
            "tags": [],
            "needs_background": "light"
          }
        }
      ]
    },
    {
      "cell_type": "markdown",
      "metadata": {
        "id": "p2YDyXmDNX4Q"
      },
      "source": [
        "**Data reference:**\n",
        "\n",
        "E. Ali, W. Guang, A. Ibrahim (2014). \"Empirical Relations Between Compressive Strength and Microfabric Properties of Amphibolites Using Multivariate Regression, Fuzzy Inference, and Neural Networks: A Comparative Study,\" Engineering Geology, Vol. 183, pp. 230-240."
      ]
    }
  ]
}